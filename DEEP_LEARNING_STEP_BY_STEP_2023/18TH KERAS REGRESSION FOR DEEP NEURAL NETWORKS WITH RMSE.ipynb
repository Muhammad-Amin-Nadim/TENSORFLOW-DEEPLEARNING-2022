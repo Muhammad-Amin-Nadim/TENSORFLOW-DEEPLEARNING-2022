{
  "cells": [
    {
      "cell_type": "markdown",
      "metadata": {
        "id": "sYzMaSuNuNSV"
      },
      "source": [
        "#  Applications of Deep Neural Networks\n"
      ]
    },
    {
      "cell_type": "markdown",
      "metadata": {
        "id": "ybEDln1RuNSb"
      },
      "source": [
        "# Google CoLab Instructions\n",
        "\n",
        "The following code ensures that Google CoLab is running the correct version of TensorFlow."
      ]
    },
    {
      "cell_type": "code",
      "execution_count": 1,
      "metadata": {
        "id": "htJQ8tnluNSf",
        "outputId": "87c55a14-9f23-4eba-8134-bde20858745b",
        "colab": {
          "base_uri": "https://localhost:8080/"
        }
      },
      "outputs": [
        {
          "output_type": "stream",
          "name": "stdout",
          "text": [
            "Colab only includes TensorFlow 2.x; %tensorflow_version has no effect.\n",
            "Note: using Google CoLab\n"
          ]
        }
      ],
      "source": [
        "try:\n",
        "    %tensorflow_version 2.x\n",
        "    COLAB = True\n",
        "    print(\"Note: using Google CoLab\")\n",
        "except:\n",
        "    print(\"Note: not using Google CoLab\")\n",
        "    COLAB = False"
      ]
    },
    {
      "cell_type": "markdown",
      "metadata": {
        "id": "CvIo0KPFuNSj"
      },
      "source": [
        "# Part 4.3: Keras Regression for Deep Neural Networks with RMSE\n",
        "\n",
        "We evaluate regression results differently than classification.  Consider the following code that trains a neural network for regression on the data set **jh-simple-dataset.csv**.  We begin by preparing the data set."
      ]
    },
    {
      "cell_type": "code",
      "execution_count": 2,
      "metadata": {
        "id": "GLLNHqhruNSk"
      },
      "outputs": [],
      "source": [
        "import pandas as pd\n",
        "from scipy.stats import zscore\n",
        "from sklearn.model_selection import train_test_split\n",
        "import matplotlib.pyplot as plt\n",
        "\n",
        "# Read the data set\n",
        "df = pd.read_csv(\n",
        "    \"https://data.heatonresearch.com/data/t81-558/jh-simple-dataset.csv\",\n",
        "    na_values=['NA','?'])\n",
        "\n",
        "# Generate dummies for job\n",
        "df = pd.concat([df,pd.get_dummies(df['job'],prefix=\"job\")],axis=1)\n",
        "df.drop('job', axis=1, inplace=True)\n",
        "\n",
        "# Generate dummies for area\n",
        "df = pd.concat([df,pd.get_dummies(df['area'],prefix=\"area\")],axis=1)\n",
        "df.drop('area', axis=1, inplace=True)\n",
        "\n",
        "# Generate dummies for product\n",
        "df = pd.concat([df,pd.get_dummies(df['product'],prefix=\"product\")],axis=1)\n",
        "df.drop('product', axis=1, inplace=True)\n",
        "\n",
        "# Missing values for income\n",
        "med = df['income'].median()\n",
        "df['income'] = df['income'].fillna(med)\n",
        "\n",
        "# Standardize ranges\n",
        "df['income'] = zscore(df['income'])\n",
        "df['aspect'] = zscore(df['aspect'])\n",
        "df['save_rate'] = zscore(df['save_rate'])\n",
        "df['subscriptions'] = zscore(df['subscriptions'])\n",
        "\n",
        "# Convert to numpy - Classification\n",
        "x_columns = df.columns.drop('age').drop('id')\n",
        "x = df[x_columns].values\n",
        "y = df['age'].values\n",
        "\n",
        "# Create train/test\n",
        "x_train, x_test, y_train, y_test = train_test_split(    \n",
        "    x, y, test_size=0.25, random_state=42)"
      ]
    },
    {
      "cell_type": "markdown",
      "metadata": {
        "id": "VPX5tfxwuNSm"
      },
      "source": [
        "Next, we create a neural network to fit the data we just loaded."
      ]
    },
    {
      "cell_type": "code",
      "execution_count": 3,
      "metadata": {
        "id": "uW-aJVvbuNSn",
        "outputId": "465e03a8-6e75-4f47-c4d7-27f69c5c4fd8",
        "colab": {
          "base_uri": "https://localhost:8080/"
        }
      },
      "outputs": [
        {
          "output_type": "stream",
          "name": "stdout",
          "text": [
            "Epoch 1/1000\n",
            "47/47 - 1s - loss: 2031.4127 - val_loss: 1841.1775 - 918ms/epoch - 20ms/step\n",
            "Epoch 2/1000\n",
            "47/47 - 0s - loss: 1572.5465 - val_loss: 1150.3815 - 114ms/epoch - 2ms/step\n",
            "Epoch 3/1000\n",
            "47/47 - 0s - loss: 744.4590 - val_loss: 385.9300 - 118ms/epoch - 3ms/step\n",
            "Epoch 4/1000\n",
            "47/47 - 0s - loss: 276.0046 - val_loss: 233.2362 - 115ms/epoch - 2ms/step\n",
            "Epoch 5/1000\n",
            "47/47 - 0s - loss: 222.4169 - val_loss: 204.1678 - 154ms/epoch - 3ms/step\n",
            "Epoch 6/1000\n",
            "47/47 - 0s - loss: 193.3385 - val_loss: 177.7318 - 151ms/epoch - 3ms/step\n",
            "Epoch 7/1000\n",
            "47/47 - 0s - loss: 166.5165 - val_loss: 152.6439 - 113ms/epoch - 2ms/step\n",
            "Epoch 8/1000\n",
            "47/47 - 0s - loss: 142.2260 - val_loss: 130.3747 - 123ms/epoch - 3ms/step\n",
            "Epoch 9/1000\n",
            "47/47 - 0s - loss: 119.9150 - val_loss: 110.6989 - 111ms/epoch - 2ms/step\n",
            "Epoch 10/1000\n",
            "47/47 - 0s - loss: 100.8840 - val_loss: 94.5702 - 110ms/epoch - 2ms/step\n",
            "Epoch 11/1000\n",
            "47/47 - 0s - loss: 85.1441 - val_loss: 80.1229 - 111ms/epoch - 2ms/step\n",
            "Epoch 12/1000\n",
            "47/47 - 0s - loss: 71.7398 - val_loss: 68.1205 - 120ms/epoch - 3ms/step\n",
            "Epoch 13/1000\n",
            "47/47 - 0s - loss: 60.7392 - val_loss: 59.6265 - 167ms/epoch - 4ms/step\n",
            "Epoch 14/1000\n",
            "47/47 - 0s - loss: 51.4991 - val_loss: 51.1397 - 154ms/epoch - 3ms/step\n",
            "Epoch 15/1000\n",
            "47/47 - 0s - loss: 43.5898 - val_loss: 44.0960 - 112ms/epoch - 2ms/step\n",
            "Epoch 16/1000\n",
            "47/47 - 0s - loss: 37.0437 - val_loss: 38.1815 - 114ms/epoch - 2ms/step\n",
            "Epoch 17/1000\n",
            "47/47 - 0s - loss: 31.4837 - val_loss: 32.9198 - 110ms/epoch - 2ms/step\n",
            "Epoch 18/1000\n",
            "47/47 - 0s - loss: 26.9785 - val_loss: 28.9047 - 112ms/epoch - 2ms/step\n",
            "Epoch 19/1000\n",
            "47/47 - 0s - loss: 23.2130 - val_loss: 25.0104 - 113ms/epoch - 2ms/step\n",
            "Epoch 20/1000\n",
            "47/47 - 0s - loss: 20.4210 - val_loss: 22.2415 - 110ms/epoch - 2ms/step\n",
            "Epoch 21/1000\n",
            "47/47 - 0s - loss: 18.1737 - val_loss: 20.3859 - 110ms/epoch - 2ms/step\n",
            "Epoch 22/1000\n",
            "47/47 - 0s - loss: 16.3424 - val_loss: 18.6442 - 193ms/epoch - 4ms/step\n",
            "Epoch 23/1000\n",
            "47/47 - 0s - loss: 15.1902 - val_loss: 17.0087 - 125ms/epoch - 3ms/step\n",
            "Epoch 24/1000\n",
            "47/47 - 0s - loss: 14.1020 - val_loss: 15.7081 - 120ms/epoch - 3ms/step\n",
            "Epoch 25/1000\n",
            "47/47 - 0s - loss: 13.2185 - val_loss: 14.8132 - 118ms/epoch - 3ms/step\n",
            "Epoch 26/1000\n",
            "47/47 - 0s - loss: 12.8480 - val_loss: 14.2561 - 118ms/epoch - 3ms/step\n",
            "Epoch 27/1000\n",
            "47/47 - 0s - loss: 12.4770 - val_loss: 13.7856 - 116ms/epoch - 2ms/step\n",
            "Epoch 28/1000\n",
            "47/47 - 0s - loss: 11.8527 - val_loss: 13.0122 - 114ms/epoch - 2ms/step\n",
            "Epoch 29/1000\n",
            "47/47 - 0s - loss: 11.2551 - val_loss: 12.5595 - 156ms/epoch - 3ms/step\n",
            "Epoch 30/1000\n",
            "47/47 - 0s - loss: 10.9959 - val_loss: 12.1928 - 126ms/epoch - 3ms/step\n",
            "Epoch 31/1000\n",
            "47/47 - 0s - loss: 10.6569 - val_loss: 11.7692 - 111ms/epoch - 2ms/step\n",
            "Epoch 32/1000\n",
            "47/47 - 0s - loss: 10.3234 - val_loss: 11.4321 - 109ms/epoch - 2ms/step\n",
            "Epoch 33/1000\n",
            "47/47 - 0s - loss: 10.0610 - val_loss: 11.0302 - 112ms/epoch - 2ms/step\n",
            "Epoch 34/1000\n",
            "47/47 - 0s - loss: 9.7571 - val_loss: 10.9520 - 130ms/epoch - 3ms/step\n",
            "Epoch 35/1000\n",
            "47/47 - 0s - loss: 9.5689 - val_loss: 10.5580 - 113ms/epoch - 2ms/step\n",
            "Epoch 36/1000\n",
            "47/47 - 0s - loss: 9.2395 - val_loss: 10.1358 - 110ms/epoch - 2ms/step\n",
            "Epoch 37/1000\n",
            "47/47 - 0s - loss: 8.9901 - val_loss: 9.8022 - 112ms/epoch - 2ms/step\n",
            "Epoch 38/1000\n",
            "47/47 - 0s - loss: 8.7440 - val_loss: 9.5492 - 120ms/epoch - 3ms/step\n",
            "Epoch 39/1000\n",
            "47/47 - 0s - loss: 8.4883 - val_loss: 9.2755 - 116ms/epoch - 2ms/step\n",
            "Epoch 40/1000\n",
            "47/47 - 0s - loss: 8.2619 - val_loss: 8.9758 - 117ms/epoch - 2ms/step\n",
            "Epoch 41/1000\n",
            "47/47 - 0s - loss: 8.0516 - val_loss: 8.8233 - 151ms/epoch - 3ms/step\n",
            "Epoch 42/1000\n",
            "47/47 - 0s - loss: 7.7741 - val_loss: 8.6674 - 112ms/epoch - 2ms/step\n",
            "Epoch 43/1000\n",
            "47/47 - 0s - loss: 7.5617 - val_loss: 8.2923 - 118ms/epoch - 3ms/step\n",
            "Epoch 44/1000\n",
            "47/47 - 0s - loss: 7.4116 - val_loss: 8.0057 - 117ms/epoch - 2ms/step\n",
            "Epoch 45/1000\n",
            "47/47 - 0s - loss: 7.1173 - val_loss: 7.7393 - 112ms/epoch - 2ms/step\n",
            "Epoch 46/1000\n",
            "47/47 - 0s - loss: 6.9751 - val_loss: 7.6208 - 140ms/epoch - 3ms/step\n",
            "Epoch 47/1000\n",
            "47/47 - 0s - loss: 6.7694 - val_loss: 7.3239 - 133ms/epoch - 3ms/step\n",
            "Epoch 48/1000\n",
            "47/47 - 0s - loss: 6.5063 - val_loss: 7.0757 - 112ms/epoch - 2ms/step\n",
            "Epoch 49/1000\n",
            "47/47 - 0s - loss: 6.3114 - val_loss: 6.8396 - 113ms/epoch - 2ms/step\n",
            "Epoch 50/1000\n",
            "47/47 - 0s - loss: 6.1050 - val_loss: 6.6404 - 109ms/epoch - 2ms/step\n",
            "Epoch 51/1000\n",
            "47/47 - 0s - loss: 5.9050 - val_loss: 6.4707 - 108ms/epoch - 2ms/step\n",
            "Epoch 52/1000\n",
            "47/47 - 0s - loss: 5.7482 - val_loss: 6.1779 - 109ms/epoch - 2ms/step\n",
            "Epoch 53/1000\n",
            "47/47 - 0s - loss: 5.5343 - val_loss: 6.0641 - 115ms/epoch - 2ms/step\n",
            "Epoch 54/1000\n",
            "47/47 - 0s - loss: 5.3063 - val_loss: 5.7198 - 123ms/epoch - 3ms/step\n",
            "Epoch 55/1000\n",
            "47/47 - 0s - loss: 5.0867 - val_loss: 5.5677 - 118ms/epoch - 3ms/step\n",
            "Epoch 56/1000\n",
            "47/47 - 0s - loss: 5.0010 - val_loss: 5.3272 - 115ms/epoch - 2ms/step\n",
            "Epoch 57/1000\n",
            "47/47 - 0s - loss: 4.8307 - val_loss: 5.2166 - 112ms/epoch - 2ms/step\n",
            "Epoch 58/1000\n",
            "47/47 - 0s - loss: 4.6376 - val_loss: 5.5355 - 134ms/epoch - 3ms/step\n",
            "Epoch 59/1000\n",
            "47/47 - 0s - loss: 4.4701 - val_loss: 4.7154 - 108ms/epoch - 2ms/step\n",
            "Epoch 60/1000\n",
            "47/47 - 0s - loss: 4.2074 - val_loss: 4.7666 - 118ms/epoch - 3ms/step\n",
            "Epoch 61/1000\n",
            "47/47 - 0s - loss: 4.1322 - val_loss: 4.3879 - 112ms/epoch - 2ms/step\n",
            "Epoch 62/1000\n",
            "47/47 - 0s - loss: 3.8827 - val_loss: 4.1781 - 108ms/epoch - 2ms/step\n",
            "Epoch 63/1000\n",
            "47/47 - 0s - loss: 3.6814 - val_loss: 3.9285 - 118ms/epoch - 3ms/step\n",
            "Epoch 64/1000\n",
            "47/47 - 0s - loss: 3.5521 - val_loss: 3.8639 - 106ms/epoch - 2ms/step\n",
            "Epoch 65/1000\n",
            "47/47 - 0s - loss: 3.4253 - val_loss: 3.6004 - 109ms/epoch - 2ms/step\n",
            "Epoch 66/1000\n",
            "47/47 - 0s - loss: 3.2122 - val_loss: 3.4602 - 118ms/epoch - 3ms/step\n",
            "Epoch 67/1000\n",
            "47/47 - 0s - loss: 3.0775 - val_loss: 3.3652 - 117ms/epoch - 2ms/step\n",
            "Epoch 68/1000\n",
            "47/47 - 0s - loss: 2.9659 - val_loss: 3.1873 - 103ms/epoch - 2ms/step\n",
            "Epoch 69/1000\n",
            "47/47 - 0s - loss: 2.7940 - val_loss: 2.9796 - 103ms/epoch - 2ms/step\n",
            "Epoch 70/1000\n",
            "47/47 - 0s - loss: 2.6331 - val_loss: 2.8028 - 109ms/epoch - 2ms/step\n",
            "Epoch 71/1000\n",
            "47/47 - 0s - loss: 2.5535 - val_loss: 2.7571 - 104ms/epoch - 2ms/step\n",
            "Epoch 72/1000\n",
            "47/47 - 0s - loss: 2.3951 - val_loss: 2.5633 - 129ms/epoch - 3ms/step\n",
            "Epoch 73/1000\n",
            "47/47 - 0s - loss: 2.2364 - val_loss: 2.5093 - 108ms/epoch - 2ms/step\n",
            "Epoch 74/1000\n",
            "47/47 - 0s - loss: 2.1116 - val_loss: 2.2725 - 152ms/epoch - 3ms/step\n",
            "Epoch 75/1000\n",
            "47/47 - 0s - loss: 2.0495 - val_loss: 2.1703 - 108ms/epoch - 2ms/step\n",
            "Epoch 76/1000\n",
            "47/47 - 0s - loss: 1.9342 - val_loss: 2.0674 - 102ms/epoch - 2ms/step\n",
            "Epoch 77/1000\n",
            "47/47 - 0s - loss: 1.8252 - val_loss: 1.9591 - 108ms/epoch - 2ms/step\n",
            "Epoch 78/1000\n",
            "47/47 - 0s - loss: 1.7449 - val_loss: 1.9014 - 105ms/epoch - 2ms/step\n",
            "Epoch 79/1000\n",
            "47/47 - 0s - loss: 1.6850 - val_loss: 1.7938 - 109ms/epoch - 2ms/step\n",
            "Epoch 80/1000\n",
            "47/47 - 0s - loss: 1.5839 - val_loss: 1.6677 - 237ms/epoch - 5ms/step\n",
            "Epoch 81/1000\n",
            "47/47 - 0s - loss: 1.4548 - val_loss: 1.5800 - 183ms/epoch - 4ms/step\n",
            "Epoch 82/1000\n",
            "47/47 - 0s - loss: 1.3949 - val_loss: 1.5445 - 171ms/epoch - 4ms/step\n",
            "Epoch 83/1000\n",
            "47/47 - 0s - loss: 1.3155 - val_loss: 1.5692 - 169ms/epoch - 4ms/step\n",
            "Epoch 84/1000\n",
            "47/47 - 0s - loss: 1.2574 - val_loss: 1.3864 - 204ms/epoch - 4ms/step\n",
            "Epoch 85/1000\n",
            "47/47 - 0s - loss: 1.2862 - val_loss: 1.5326 - 222ms/epoch - 5ms/step\n",
            "Epoch 86/1000\n",
            "47/47 - 0s - loss: 1.1592 - val_loss: 1.2729 - 212ms/epoch - 5ms/step\n",
            "Epoch 87/1000\n",
            "47/47 - 0s - loss: 1.0932 - val_loss: 1.1865 - 217ms/epoch - 5ms/step\n",
            "Epoch 88/1000\n",
            "47/47 - 0s - loss: 1.0215 - val_loss: 1.1395 - 226ms/epoch - 5ms/step\n",
            "Epoch 89/1000\n",
            "47/47 - 0s - loss: 0.9925 - val_loss: 1.1742 - 236ms/epoch - 5ms/step\n",
            "Epoch 90/1000\n",
            "47/47 - 0s - loss: 1.0114 - val_loss: 1.0471 - 245ms/epoch - 5ms/step\n",
            "Epoch 91/1000\n",
            "47/47 - 0s - loss: 0.9415 - val_loss: 1.1391 - 168ms/epoch - 4ms/step\n",
            "Epoch 92/1000\n",
            "47/47 - 0s - loss: 0.8934 - val_loss: 0.9819 - 223ms/epoch - 5ms/step\n",
            "Epoch 93/1000\n",
            "47/47 - 0s - loss: 0.8677 - val_loss: 0.9474 - 219ms/epoch - 5ms/step\n",
            "Epoch 94/1000\n",
            "47/47 - 0s - loss: 0.8058 - val_loss: 0.9532 - 287ms/epoch - 6ms/step\n",
            "Epoch 95/1000\n",
            "47/47 - 0s - loss: 0.7891 - val_loss: 0.8761 - 218ms/epoch - 5ms/step\n",
            "Epoch 96/1000\n",
            "47/47 - 0s - loss: 0.7696 - val_loss: 0.8600 - 439ms/epoch - 9ms/step\n",
            "Epoch 97/1000\n",
            "47/47 - 0s - loss: 0.7617 - val_loss: 0.8307 - 251ms/epoch - 5ms/step\n",
            "Epoch 98/1000\n",
            "47/47 - 0s - loss: 0.7233 - val_loss: 0.7966 - 298ms/epoch - 6ms/step\n",
            "Epoch 99/1000\n",
            "47/47 - 0s - loss: 0.7206 - val_loss: 0.8443 - 252ms/epoch - 5ms/step\n",
            "Epoch 100/1000\n",
            "47/47 - 0s - loss: 0.7271 - val_loss: 0.7848 - 195ms/epoch - 4ms/step\n",
            "Epoch 101/1000\n",
            "47/47 - 0s - loss: 0.6880 - val_loss: 0.7463 - 212ms/epoch - 5ms/step\n",
            "Epoch 102/1000\n",
            "47/47 - 0s - loss: 0.6814 - val_loss: 0.7354 - 346ms/epoch - 7ms/step\n",
            "Epoch 103/1000\n",
            "47/47 - 0s - loss: 0.6457 - val_loss: 0.7238 - 213ms/epoch - 5ms/step\n",
            "Epoch 104/1000\n",
            "47/47 - 0s - loss: 0.6321 - val_loss: 0.7232 - 210ms/epoch - 4ms/step\n",
            "Epoch 105/1000\n",
            "47/47 - 0s - loss: 0.6431 - val_loss: 0.6896 - 403ms/epoch - 9ms/step\n",
            "Epoch 106/1000\n",
            "47/47 - 0s - loss: 0.6137 - val_loss: 0.7057 - 221ms/epoch - 5ms/step\n",
            "Epoch 107/1000\n",
            "47/47 - 0s - loss: 0.6114 - val_loss: 0.6734 - 269ms/epoch - 6ms/step\n",
            "Epoch 108/1000\n",
            "47/47 - 0s - loss: 0.6133 - val_loss: 0.6741 - 213ms/epoch - 5ms/step\n",
            "Epoch 109/1000\n",
            "47/47 - 0s - loss: 0.5919 - val_loss: 0.6982 - 193ms/epoch - 4ms/step\n",
            "Epoch 110/1000\n",
            "47/47 - 0s - loss: 0.5860 - val_loss: 0.8076 - 196ms/epoch - 4ms/step\n",
            "Epoch 111/1000\n",
            "47/47 - 0s - loss: 0.6434 - val_loss: 0.6976 - 175ms/epoch - 4ms/step\n",
            "Epoch 112/1000\n",
            "Restoring model weights from the end of the best epoch: 107.\n",
            "47/47 - 0s - loss: 0.5754 - val_loss: 0.6973 - 200ms/epoch - 4ms/step\n",
            "Epoch 112: early stopping\n"
          ]
        },
        {
          "output_type": "execute_result",
          "data": {
            "text/plain": [
              "<keras.callbacks.History at 0x7f64885948e0>"
            ]
          },
          "metadata": {},
          "execution_count": 3
        }
      ],
      "source": [
        "from tensorflow.keras.models import Sequential\n",
        "from tensorflow.keras.layers import Dense, Activation\n",
        "from tensorflow.keras.callbacks import EarlyStopping\n",
        "\n",
        "# Build the neural network\n",
        "model = Sequential()\n",
        "model.add(Dense(25, input_dim=x.shape[1], activation='relu')) # Hidden 1\n",
        "model.add(Dense(10, activation='relu')) # Hidden 2\n",
        "model.add(Dense(1)) # Output\n",
        "model.compile(loss='mean_squared_error', optimizer='adam')\n",
        "monitor = EarlyStopping(monitor='val_loss', min_delta=1e-3, \n",
        "                        patience=5, verbose=1, mode='auto', \n",
        "                        restore_best_weights=True)\n",
        "model.fit(x_train,y_train,validation_data=(x_test,y_test),\n",
        "          callbacks=[monitor],verbose=2,epochs=1000)\n"
      ]
    },
    {
      "cell_type": "markdown",
      "metadata": {
        "id": "ZZvdXcnVuNSp"
      },
      "source": [
        "## Mean Square Error\n",
        "\n",
        "The mean square error (MSE) is the sum of the squared differences between the prediction ($\\hat{y}$) and the expected ($y$).  MSE values are not of a particular unit. If an MSE value has decreased for a model, that is good. However, beyond this, there is not much more you can determine. We seek to achieve low MSE values. The following equation demonstrates how to calculate MSE.\n",
        "\n",
        "$$ \\mbox{MSE} = \\frac{1}{n} \\sum_{i=1}^n \\left(\\hat{y}_i - y_i\\right)^2 $$\n",
        "\n",
        "The following code calculates the MSE on the predictions from the neural network."
      ]
    },
    {
      "cell_type": "code",
      "execution_count": 4,
      "metadata": {
        "id": "4sZUlT6CuNSq",
        "outputId": "fa6d66c1-0c4c-41bb-bfa5-d0fdf8d10865",
        "colab": {
          "base_uri": "https://localhost:8080/"
        }
      },
      "outputs": [
        {
          "output_type": "stream",
          "name": "stdout",
          "text": [
            "16/16 [==============================] - 0s 6ms/step\n",
            "Final score (MSE): 0.6733803437632232\n"
          ]
        }
      ],
      "source": [
        "from sklearn import metrics\n",
        "\n",
        "# Predict\n",
        "pred = model.predict(x_test)\n",
        "\n",
        "# Measure MSE error.  \n",
        "score = metrics.mean_squared_error(pred,y_test)\n",
        "print(\"Final score (MSE): {}\".format(score))"
      ]
    },
    {
      "cell_type": "markdown",
      "metadata": {
        "id": "eWcNK_r9uNSr"
      },
      "source": [
        "## Root Mean Square Error\n",
        "\n",
        "The root mean square (RMSE) is essentially the square root of the MSE. Because of this, the RMSE error is in the same units as the training data outcome. We desire Low RMSE values. The following equation calculates RMSE.\n",
        "\n",
        "$$ \\mbox{RMSE} = \\sqrt{\\frac{1}{n} \\sum_{i=1}^n \\left(\\hat{y}_i - y_i\\right)^2} $$"
      ]
    },
    {
      "cell_type": "code",
      "execution_count": 5,
      "metadata": {
        "id": "GfpHgssXuNSv",
        "outputId": "d6ffd41d-369a-4380-f47f-ed3068d6644e",
        "colab": {
          "base_uri": "https://localhost:8080/"
        }
      },
      "outputs": [
        {
          "output_type": "stream",
          "name": "stdout",
          "text": [
            "Final score (RMSE): 0.8205975528620733\n"
          ]
        }
      ],
      "source": [
        "import numpy as np\n",
        "\n",
        "# Measure RMSE error.  RMSE is common for regression.\n",
        "score = np.sqrt(metrics.mean_squared_error(pred,y_test))\n",
        "print(\"Final score (RMSE): {}\".format(score))"
      ]
    },
    {
      "cell_type": "markdown",
      "metadata": {
        "id": "l46wOVD4uNSw"
      },
      "source": [
        "## Lift Chart\n",
        "\n",
        "We often visualize the results of regression with a lift chart. To generate a lift chart, perform the following activities:\n",
        "\n",
        "* Sort the data by expected output and plot these values.\n",
        "* For every point on the x-axis, plot that same data point's predicted value in another color.\n",
        "* The x-axis is just 0 to 100% of the dataset. The expected always starts low and ends high.\n",
        "* The y-axis is ranged according to the values predicted.\n",
        "\n",
        "You can interpret the lift chart as follows:\n",
        "\n",
        "* The expected and predict lines should be close. Notice where one is above the other.\n",
        "* The below chart is the most accurate for lower ages."
      ]
    },
    {
      "cell_type": "code",
      "execution_count": 6,
      "metadata": {
        "id": "crTd9wh4uNSx",
        "outputId": "5b3f4520-db11-4277-98e2-1dd676f31bb4",
        "colab": {
          "base_uri": "https://localhost:8080/",
          "height": 265
        }
      },
      "outputs": [
        {
          "output_type": "display_data",
          "data": {
            "text/plain": [
              "<Figure size 432x288 with 1 Axes>"
            ],
            "image/png": "[encoded data removed]"
          },
          "metadata": {
            "needs_background": "light"
          }
        }
      ],
      "source": [
        "\n",
        "# Regression chart.\n",
        "def chart_regression(pred, y, sort=True):\n",
        "    t = pd.DataFrame({'pred': pred, 'y': y.flatten()})\n",
        "    if sort:\n",
        "        t.sort_values(by=['y'], inplace=True)\n",
        "    plt.plot(t['y'].tolist(), label='expected')\n",
        "    plt.plot(t['pred'].tolist(), label='prediction')\n",
        "    plt.ylabel('output')\n",
        "    plt.legend()\n",
        "    plt.show()\n",
        "    \n",
        "# Plot the chart\n",
        "chart_regression(pred.flatten(),y_test)"
      ]
    },
    {
      "cell_type": "code",
      "execution_count": 6,
      "metadata": {
        "id": "xtFxwwsauNSy"
      },
      "outputs": [],
      "source": []
    }
  ],
  "metadata": {
    "anaconda-cloud": {},
    "kernelspec": {
      "display_name": "Python 3.9 (tensorflow)",
      "language": "python",
      "name": "tensorflow"
    },
    "language_info": {
      "codemirror_mode": {
        "name": "ipython",
        "version": 3
      },
      "file_extension": ".py",
      "mimetype": "text/x-python",
      "name": "python",
      "nbconvert_exporter": "python",
      "pygments_lexer": "ipython3",
      "version": "3.9.7"
    },
    "colab": {
      "provenance": []
    }
  },
  "nbformat": 4,
  "nbformat_minor": 0
}