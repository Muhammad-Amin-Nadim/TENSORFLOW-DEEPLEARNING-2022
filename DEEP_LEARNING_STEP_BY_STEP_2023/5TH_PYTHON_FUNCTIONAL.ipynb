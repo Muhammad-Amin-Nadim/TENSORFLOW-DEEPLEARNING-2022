{
  "cells": [
    {
      "cell_type": "markdown",
      "metadata": {
        "id": "dwJ9rYqIWayk"
      },
      "source": [
        "# Applications of Deep Neural Networks\n"
      ]
    },
    {
      "cell_type": "markdown",
      "metadata": {
        "id": "X4HV8NazWayn"
      },
      "source": [
        "# Google CoLab Instructions\n",
        "\n",
        "The following code ensures that Google CoLab is running the correct version of TensorFlow."
      ]
    },
    {
      "cell_type": "code",
      "execution_count": 2,
      "metadata": {
        "id": "xd5HuajlWayn",
        "outputId": "60746c3c-f919-4eb8-e65e-f9095340d018",
        "colab": {
          "base_uri": "https://localhost:8080/"
        }
      },
      "outputs": [
        {
          "output_type": "stream",
          "name": "stdout",
          "text": [
            "Colab only includes TensorFlow 2.x; %tensorflow_version has no effect.\n",
            "Note: using Google CoLab\n"
          ]
        }
      ],
      "source": [
        "try:\n",
        "    from google.colab import drive\n",
        "    %tensorflow_version 2.x\n",
        "    COLAB = True\n",
        "    print(\"Note: using Google CoLab\")\n",
        "except:\n",
        "    print(\"Note: not using Google CoLab\")\n",
        "    COLAB = False"
      ]
    },
    {
      "cell_type": "markdown",
      "metadata": {
        "id": "4iX2JkZ4Wayp"
      },
      "source": [
        "# Part 1.5: Functions, Lambdas, and Map/Reduce\n",
        "\n",
        "Functions, **lambdas**, and **map/reduce** can allow you to process your data in advanced ways.  We will introduce these techniques here and expand on them in the next module, which will discuss Pandas.\n",
        "\n",
        "Function parameters can be named or unnamed in Python.  Default values can also be used.  Consider the following function."
      ]
    },
    {
      "cell_type": "code",
      "execution_count": 3,
      "metadata": {
        "id": "9A-UL1KGWayq",
        "outputId": "be95016e-850d-45b0-8cf2-c668d17e98a1",
        "colab": {
          "base_uri": "https://localhost:8080/"
        }
      },
      "outputs": [
        {
          "output_type": "stream",
          "name": "stdout",
          "text": [
            "Hello John, this is Jeff.\n",
            "Goodbye John, this is Jeff.\n",
            "Goodbye John, this is Jeff.\n"
          ]
        }
      ],
      "source": [
        "def say_hello(speaker, person_to_greet, greeting = \"Hello\"):\n",
        "    print(f'{greeting} {person_to_greet}, this is {speaker}.')\n",
        "    \n",
        "say_hello('Jeff', \"John\")\n",
        "say_hello('Jeff', \"John\", \"Goodbye\")\n",
        "say_hello(speaker='Jeff', person_to_greet=\"John\", greeting = \"Goodbye\")"
      ]
    },
    {
      "cell_type": "markdown",
      "metadata": {
        "id": "gsKOEiCEWayr"
      },
      "source": [
        "A function is a way to capture code that is commonly executed.  Consider the following function that can be used to trim white space from a string capitalize the first letter."
      ]
    },
    {
      "cell_type": "code",
      "execution_count": 4,
      "metadata": {
        "id": "NSsG4XhkWays"
      },
      "outputs": [],
      "source": [
        "def process_string(str):\n",
        "    t = str.strip()\n",
        "    return t[0].upper()+t[1:]"
      ]
    },
    {
      "cell_type": "markdown",
      "metadata": {
        "id": "eVo1rIhBWays"
      },
      "source": [
        "This function can now be called quite easily."
      ]
    },
    {
      "cell_type": "code",
      "execution_count": 5,
      "metadata": {
        "id": "xvxXT9fVWayt",
        "outputId": "bc9bf3a9-6055-4dc6-8c4e-f6ac7a4aa209",
        "colab": {
          "base_uri": "https://localhost:8080/"
        }
      },
      "outputs": [
        {
          "output_type": "stream",
          "name": "stdout",
          "text": [
            "\"Hello\"\n"
          ]
        }
      ],
      "source": [
        "str = process_string(\"  hello  \")\n",
        "print(f'\"{str}\"')"
      ]
    },
    {
      "cell_type": "markdown",
      "metadata": {
        "id": "IakPn9UqWayt"
      },
      "source": [
        "Python's **map** is a very useful function that is provided in many different programming languages.  The **map** function takes a **list** and applies a function to each member of the **list** and returns a second **list** that is the same size as the first."
      ]
    },
    {
      "cell_type": "code",
      "execution_count": 6,
      "metadata": {
        "id": "TJKKCLbkWayt",
        "outputId": "ed156152-729b-4760-8de7-729b2fe7fbbc",
        "colab": {
          "base_uri": "https://localhost:8080/"
        }
      },
      "outputs": [
        {
          "output_type": "execute_result",
          "data": {
            "text/plain": [
              "['Apple', 'Pear', 'Orange', 'Pine apple']"
            ]
          },
          "metadata": {},
          "execution_count": 6
        }
      ],
      "source": [
        "l = ['   apple  ', 'pear ', 'orange', 'pine apple  ']\n",
        "list(map(process_string, l))"
      ]
    },
    {
      "cell_type": "markdown",
      "metadata": {
        "id": "cybbClKUWayu"
      },
      "source": [
        "## Map\n",
        "The **map** function is very similar to the Python **comprehension** that we previously explored.  The following **comprehension** accomplishes the same task as the previous call to **map**."
      ]
    },
    {
      "cell_type": "code",
      "execution_count": 7,
      "metadata": {
        "id": "pjwJpQi9Wayu",
        "outputId": "031c2f81-9e26-4e87-96d0-d1c06a3bc929",
        "colab": {
          "base_uri": "https://localhost:8080/"
        }
      },
      "outputs": [
        {
          "output_type": "stream",
          "name": "stdout",
          "text": [
            "['Apple', 'Pear', 'Orange', 'Pine apple']\n"
          ]
        }
      ],
      "source": [
        "l = ['   apple  ', 'pear ', 'orange', 'pine apple  ']\n",
        "l2 = [process_string(x) for x in l]\n",
        "print(l2)"
      ]
    },
    {
      "cell_type": "markdown",
      "metadata": {
        "id": "9y3e67ubWayv"
      },
      "source": [
        "The choice of using a **map** function or **comprehension** is up to the programmer.  I tend to prefer **map** since it is so common in other programming languages."
      ]
    },
    {
      "cell_type": "markdown",
      "metadata": {
        "id": "DWMmRVjoWayv"
      },
      "source": [
        "## Filter\n",
        "While a **map function** always creates a new **list** of the same size as the original, the **filter** function creates a potentially smaller **list**. "
      ]
    },
    {
      "cell_type": "code",
      "execution_count": 8,
      "metadata": {
        "id": "-gWOaA-zWayv",
        "outputId": "02f4eb93-5d0a-47d1-8b06-1842a271cd97",
        "colab": {
          "base_uri": "https://localhost:8080/"
        }
      },
      "outputs": [
        {
          "output_type": "stream",
          "name": "stdout",
          "text": [
            "[10, 20]\n"
          ]
        }
      ],
      "source": [
        "def greater_than_five(x):\n",
        "    return x>5\n",
        "\n",
        "l = [ 1, 10, 20, 3, -2, 0]\n",
        "l2 = list(filter(greater_than_five, l))\n",
        "print(l2)"
      ]
    },
    {
      "cell_type": "markdown",
      "metadata": {
        "id": "eGZuPf5OWayv"
      },
      "source": [
        "## Lambda\n",
        "It might seem somewhat tedious to have to create an entire function just to check to see if a value is greater than 5.  A **lambda** saves you this effort.  A lambda is essentially an unnamed function."
      ]
    },
    {
      "cell_type": "code",
      "execution_count": 9,
      "metadata": {
        "id": "enh70k-qWayw",
        "outputId": "5c656d25-2ba7-4b31-a447-904eee858d82",
        "colab": {
          "base_uri": "https://localhost:8080/"
        }
      },
      "outputs": [
        {
          "output_type": "stream",
          "name": "stdout",
          "text": [
            "[10, 20]\n"
          ]
        }
      ],
      "source": [
        "l = [ 1, 10, 20, 3, -2, 0]\n",
        "l2 = list(filter(lambda x: x>5, l))\n",
        "print(l2)"
      ]
    },
    {
      "cell_type": "markdown",
      "metadata": {
        "id": "37S3r3y6Wayw"
      },
      "source": [
        "## Reduce\n",
        "\n",
        "Finally, we will make use of **reduce**.  Like **filter** and **map** the **reduce** function also works on a **list**.  However, the result of the **reduce** is a single value.  Consider if you wanted to sum the **values** of a **list**.  The sum is implemented by a **lambda**."
      ]
    },
    {
      "cell_type": "code",
      "execution_count": 10,
      "metadata": {
        "id": "u3LmgA5DWayw",
        "outputId": "416b4059-e244-4adb-dce0-e7ec4e84a1e5",
        "colab": {
          "base_uri": "https://localhost:8080/"
        }
      },
      "outputs": [
        {
          "output_type": "stream",
          "name": "stdout",
          "text": [
            "32\n"
          ]
        }
      ],
      "source": [
        "from functools import reduce\n",
        "\n",
        "l = [ 1, 10, 20, 3, -2, 0]\n",
        "result = reduce(lambda x,y: x+y,l)\n",
        "print(result)"
      ]
    }
  ],
  "metadata": {
    "anaconda-cloud": {},
    "kernelspec": {
      "display_name": "Python 3.9 (tensorflow)",
      "language": "python",
      "name": "tensorflow"
    },
    "language_info": {
      "codemirror_mode": {
        "name": "ipython",
        "version": 3
      },
      "file_extension": ".py",
      "mimetype": "text/x-python",
      "name": "python",
      "nbconvert_exporter": "python",
      "pygments_lexer": "ipython3",
      "version": "3.9.7"
    },
    "colab": {
      "provenance": []
    }
  },
  "nbformat": 4,
  "nbformat_minor": 0
}