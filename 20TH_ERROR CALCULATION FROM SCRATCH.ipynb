{
  "cells": [
    {
      "cell_type": "markdown",
      "metadata": {
        "id": "6pO6-VUAwgiI"
      },
      "source": [
        "# Applications of Deep Neural Networks\n"
      ]
    },
    {
      "cell_type": "markdown",
      "metadata": {
        "id": "1O959VpOwgiM"
      },
      "source": [
        "# Google CoLab Instructions\n",
        "\n",
        "The following code ensures that Google CoLab is running the correct version of TensorFlow."
      ]
    },
    {
      "cell_type": "code",
      "execution_count": 1,
      "metadata": {
        "id": "JFp7AuzmwgiQ",
        "outputId": "9d8e2a03-10db-4571-ed6e-0979e6b8570e",
        "colab": {
          "base_uri": "https://localhost:8080/"
        }
      },
      "outputs": [
        {
          "output_type": "stream",
          "name": "stdout",
          "text": [
            "Colab only includes TensorFlow 2.x; %tensorflow_version has no effect.\n",
            "Note: using Google CoLab\n"
          ]
        }
      ],
      "source": [
        "try:\n",
        "    %tensorflow_version 2.x\n",
        "    COLAB = True\n",
        "    print(\"Note: using Google CoLab\")\n",
        "except:\n",
        "    print(\"Note: not using Google CoLab\")\n",
        "    COLAB = False"
      ]
    },
    {
      "cell_type": "markdown",
      "metadata": {
        "id": "SIE-PeLawgiV"
      },
      "source": [
        "# Part 4.5: Error Calculation from Scratch\n",
        "\n",
        "We will now look at how to calculate RMSE and logloss by hand.  RMSE is typically used for regression. We begin by calculating RMSE with libraries."
      ]
    },
    {
      "cell_type": "code",
      "execution_count": 2,
      "metadata": {
        "id": "qKuu8M_mwgiW",
        "outputId": "185bf0b4-8281-4b18-c10b-00b4b574622e",
        "colab": {
          "base_uri": "https://localhost:8080/"
        }
      },
      "outputs": [
        {
          "output_type": "stream",
          "name": "stdout",
          "text": [
            "Score (MSE): 0.14200000000000007\n",
            "Score (RMSE): 0.37682887362833556\n"
          ]
        }
      ],
      "source": [
        "from sklearn import metrics\n",
        "import numpy as np\n",
        "\n",
        "predicted = [1.1,1.9,3.4,4.2,4.3]\n",
        "expected = [1,2,3,4,5]\n",
        "\n",
        "score_mse = metrics.mean_squared_error(predicted,expected)\n",
        "score_rmse = np.sqrt(score_mse)\n",
        "print(\"Score (MSE): {}\".format(score_mse))\n",
        "print(\"Score (RMSE): {}\".format(score_rmse))\n"
      ]
    },
    {
      "cell_type": "markdown",
      "metadata": {
        "id": "8h12ddkgwgiX"
      },
      "source": [
        "We can also calculate without libraries."
      ]
    },
    {
      "cell_type": "code",
      "execution_count": 3,
      "metadata": {
        "id": "EEykvPUEwgiY",
        "outputId": "934f8a65-21f9-4e99-8f17-f1cd063a63a8",
        "colab": {
          "base_uri": "https://localhost:8080/"
        }
      },
      "outputs": [
        {
          "output_type": "stream",
          "name": "stdout",
          "text": [
            "Score (MSE): 0.14200000000000007\n",
            "Score (RMSE): 0.37682887362833556\n"
          ]
        }
      ],
      "source": [
        "score_mse = ((predicted[0]-expected[0])**2 + (predicted[1]-expected[1])**2 \n",
        "+ (predicted[2]-expected[2])**2 + (predicted[3]-expected[3])**2\n",
        "+ (predicted[4]-expected[4])**2)/len(predicted)\n",
        "score_rmse = np.sqrt(score_mse)\n",
        "    \n",
        "print(\"Score (MSE): {}\".format(score_mse))\n",
        "print(\"Score (RMSE): {}\".format(score_rmse))"
      ]
    },
    {
      "cell_type": "markdown",
      "metadata": {
        "id": "xuRqaZMswgiZ"
      },
      "source": [
        "## Classification\n",
        "\n",
        "We will now look at how to calculate a logloss by hand. For this, we look at a binary prediction. The predicted is some number between 0-1 that indicates the probability true (1). The expected is always 0 or 1. Therefore, a prediction of 1.0 is completely correct if the expected is 1 and completely wrong if the expected is 0."
      ]
    },
    {
      "cell_type": "code",
      "execution_count": 4,
      "metadata": {
        "scrolled": true,
        "id": "Ye6dqSdgwgia",
        "outputId": "99cb4b6f-f448-4cf2-936c-fd1bf3678bc7",
        "colab": {
          "base_uri": "https://localhost:8080/"
        }
      },
      "outputs": [
        {
          "output_type": "stream",
          "name": "stdout",
          "text": [
            "0.06678801305495843\n"
          ]
        }
      ],
      "source": [
        "from sklearn import metrics\n",
        "\n",
        "expected = [1,1,0,0,0]\n",
        "predicted = [0.9,0.99,0.1,0.05,0.06]\n",
        "\n",
        "print(metrics.log_loss(expected,predicted))"
      ]
    },
    {
      "cell_type": "markdown",
      "metadata": {
        "id": "9GoYDEWawgib"
      },
      "source": [
        "Now we attempt to calculate the same logloss manually."
      ]
    },
    {
      "cell_type": "code",
      "execution_count": 5,
      "metadata": {
        "id": "omZ-Gx0ewgib",
        "outputId": "d80c59b7-c2dd-4a23-c44f-6410b06ecbe7",
        "colab": {
          "base_uri": "https://localhost:8080/"
        }
      },
      "outputs": [
        {
          "output_type": "stream",
          "name": "stdout",
          "text": [
            "Score Logloss 0.06678801305495843\n"
          ]
        }
      ],
      "source": [
        "import numpy as np\n",
        "\n",
        "score_logloss = (np.log(1.0-np.abs(expected[0]-predicted[0]))+\\\n",
        "np.log(1.0-np.abs(expected[1]-predicted[1]))+\\\n",
        "np.log(1.0-np.abs(expected[2]-predicted[2]))+\\\n",
        "np.log(1.0-np.abs(expected[3]-predicted[3]))+\\\n",
        "np.log(1.0-np.abs(expected[4]-predicted[4])))\\\n",
        "*(-1/len(predicted))\n",
        "\n",
        "print(f'Score Logloss {score_logloss}')"
      ]
    }
  ],
  "metadata": {
    "anaconda-cloud": {},
    "kernelspec": {
      "display_name": "Python 3.9 (tensorflow)",
      "language": "python",
      "name": "tensorflow"
    },
    "language_info": {
      "codemirror_mode": {
        "name": "ipython",
        "version": 3
      },
      "file_extension": ".py",
      "mimetype": "text/x-python",
      "name": "python",
      "nbconvert_exporter": "python",
      "pygments_lexer": "ipython3",
      "version": "3.9.7"
    },
    "colab": {
      "provenance": []
    }
  },
  "nbformat": 4,
  "nbformat_minor": 0
}