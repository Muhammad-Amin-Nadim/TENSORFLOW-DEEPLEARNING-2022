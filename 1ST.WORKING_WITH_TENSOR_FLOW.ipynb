{
  "nbformat": 4,
  "nbformat_minor": 0,
  "metadata": {
    "colab": {
      "provenance": []
    },
    "kernelspec": {
      "name": "python3",
      "display_name": "Python 3"
    },
    "language_info": {
      "name": "python"
    }
  },
  "cells": [
    {
      "cell_type": "markdown",
      "source": [
        "TensorFlow 2 MNIST Demo\n"
      ],
      "metadata": {
        "id": "1beu7Cnetdxt"
      }
    },
    {
      "cell_type": "code",
      "execution_count": 1,
      "metadata": {
        "id": "zECR6omkjhII"
      },
      "outputs": [],
      "source": [
        "import tensorflow as tf"
      ]
    },
    {
      "cell_type": "code",
      "source": [
        "x=tf.constant(10.0)\n",
        "y=tf.constant(15.0)\n",
        "z=x+y\n",
        "print(z)"
      ],
      "metadata": {
        "colab": {
          "base_uri": "https://localhost:8080/"
        },
        "id": "B-SObWvloFnL",
        "outputId": "dfd14cec-d647-468d-ef7a-88617bd6190d"
      },
      "execution_count": 2,
      "outputs": [
        {
          "output_type": "stream",
          "name": "stdout",
          "text": [
            "tf.Tensor(25.0, shape=(), dtype=float32)\n"
          ]
        }
      ]
    },
    {
      "cell_type": "markdown",
      "source": [
        "Step 1: Load MNIST dataset and convert sames to floating point numbers from integers:"
      ],
      "metadata": {
        "id": "tBATRV-ktwEI"
      }
    },
    {
      "cell_type": "code",
      "source": [
        "mnist = tf.keras.datasets.mnist\n",
        "(x_train, y_train), (x_test, y_test) = mnist.load_data()\n",
        "x_train, x_test = x_train/255.0, x_test / 255.0"
      ],
      "metadata": {
        "colab": {
          "base_uri": "https://localhost:8080/"
        },
        "id": "fGpGCxuIspz_",
        "outputId": "54c9e9f4-3f06-464a-d3c9-45076fea42c1"
      },
      "execution_count": 7,
      "outputs": [
        {
          "output_type": "stream",
          "name": "stdout",
          "text": [
            "Downloading data from https://storage.googleapis.com/tensorflow/tf-keras-datasets/mnist.npz\n",
            "11490434/11490434 [==============================] - 0s 0us/step\n"
          ]
        }
      ]
    },
    {
      "cell_type": "markdown",
      "source": [
        "Step 2: Build the Model, choose an optimizer and the loss function:"
      ],
      "metadata": {
        "id": "JPrek1qttzgt"
      }
    },
    {
      "cell_type": "code",
      "source": [
        "model = tf.keras.models.Sequential([\n",
        "   tf.keras.layers.Flatten(input_shape=(28,28)),\n",
        "   tf.keras.layers.Dense(128,activation='relu'),\n",
        "   tf.keras.layers.Dense(10)\n",
        "])"
      ],
      "metadata": {
        "id": "1cLRAuyRtzHf"
      },
      "execution_count": 14,
      "outputs": []
    },
    {
      "cell_type": "markdown",
      "source": [
        "Step 3: Take a look at what the model is doing in terms of outputs - vectors:\n"
      ],
      "metadata": {
        "id": "LvFmnHtMwDoO"
      }
    },
    {
      "cell_type": "code",
      "source": [
        "predictions = model(x_train[:1]).numpy()\n",
        "predictions"
      ],
      "metadata": {
        "colab": {
          "base_uri": "https://localhost:8080/"
        },
        "id": "PBJY6nSqwBuo",
        "outputId": "b1f0f2f3-903d-4317-d9ae-01d14fa32978"
      },
      "execution_count": 18,
      "outputs": [
        {
          "output_type": "execute_result",
          "data": {
            "text/plain": [
              "array([[ 0.44022998, -0.3075926 ,  0.28100735,  0.34605098,  0.2665447 ,\n",
              "         0.47637963,  0.47428632, -0.02088033, -0.02273236, -0.32176977]],\n",
              "      dtype=float32)"
            ]
          },
          "metadata": {},
          "execution_count": 18
        }
      ]
    },
    {
      "cell_type": "markdown",
      "source": [
        "\n",
        "\n",
        "Step 4: We need the probability of each class instead of the vectors:\n",
        "\n"
      ],
      "metadata": {
        "id": "M9XfxWEsw1aj"
      }
    },
    {
      "cell_type": "code",
      "source": [
        "\n",
        "tf.nn.softmax(predictions).numpy()"
      ],
      "metadata": {
        "colab": {
          "base_uri": "https://localhost:8080/"
        },
        "id": "50f1LlO0w10D",
        "outputId": "de84bf8c-eb6a-4c3d-b2a9-1f266bfdc9ce"
      },
      "execution_count": 19,
      "outputs": [
        {
          "output_type": "execute_result",
          "data": {
            "text/plain": [
              "array([[0.126983  , 0.06011327, 0.10829192, 0.11556976, 0.10673701,\n",
              "        0.13165738, 0.13138206, 0.08007333, 0.07992518, 0.05926705]],\n",
              "      dtype=float32)"
            ]
          },
          "metadata": {},
          "execution_count": 19
        }
      ]
    },
    {
      "cell_type": "markdown",
      "source": [
        "Step 5: Finding the scalar loss for each example:\n"
      ],
      "metadata": {
        "id": "YWdU7O5LxcLu"
      }
    },
    {
      "cell_type": "code",
      "source": [
        "loss_fn = tf.keras.losses.SparseCategoricalCrossentropy(from_logits=True)\n",
        "loss_fn(y_train[:1], predictions).numpy()"
      ],
      "metadata": {
        "colab": {
          "base_uri": "https://localhost:8080/"
        },
        "id": "NXeccNNNxawL",
        "outputId": "2f7c1f67-36f4-4d98-b4a3-becc3ca0b2f3"
      },
      "execution_count": 21,
      "outputs": [
        {
          "output_type": "execute_result",
          "data": {
            "text/plain": [
              "2.0275524"
            ]
          },
          "metadata": {},
          "execution_count": 21
        }
      ]
    },
    {
      "cell_type": "markdown",
      "source": [
        "Step 6: Model Compilation:\n"
      ],
      "metadata": {
        "id": "VkxqdDXWyRMb"
      }
    },
    {
      "cell_type": "code",
      "source": [
        "model.compile(optimizer='adam',\n",
        "              loss=loss_fn,\n",
        "              metrics=['accuracy'])\n"
      ],
      "metadata": {
        "id": "9y1-gFn-yPnr"
      },
      "execution_count": 23,
      "outputs": []
    },
    {
      "cell_type": "markdown",
      "source": [
        "Step 7: Model fitting to minimized the loss:\n"
      ],
      "metadata": {
        "id": "Cc8bh5bly5H6"
      }
    },
    {
      "cell_type": "code",
      "source": [
        "model.fit(x_train, y_train, epochs=5)"
      ],
      "metadata": {
        "colab": {
          "base_uri": "https://localhost:8080/"
        },
        "id": "mE-KOHIuy6d_",
        "outputId": "e21086dd-7a5c-46fe-e184-c12de89d4e9e"
      },
      "execution_count": 24,
      "outputs": [
        {
          "output_type": "stream",
          "name": "stdout",
          "text": [
            "Epoch 1/5\n",
            "1875/1875 [==============================] - 6s 3ms/step - loss: 0.2553 - accuracy: 0.9268\n",
            "Epoch 2/5\n",
            "1875/1875 [==============================] - 6s 3ms/step - loss: 0.1124 - accuracy: 0.9667\n",
            "Epoch 3/5\n",
            "1875/1875 [==============================] - 6s 3ms/step - loss: 0.0773 - accuracy: 0.9763\n",
            "Epoch 4/5\n",
            "1875/1875 [==============================] - 6s 3ms/step - loss: 0.0577 - accuracy: 0.9820\n",
            "Epoch 5/5\n",
            "1875/1875 [==============================] - 6s 3ms/step - loss: 0.0443 - accuracy: 0.9858\n"
          ]
        },
        {
          "output_type": "execute_result",
          "data": {
            "text/plain": [
              "<keras.callbacks.History at 0x7f24d08b66a0>"
            ]
          },
          "metadata": {},
          "execution_count": 24
        }
      ]
    },
    {
      "cell_type": "markdown",
      "source": [
        "Step 8: Model Evaluation"
      ],
      "metadata": {
        "id": "xATA-OuRzLao"
      }
    },
    {
      "cell_type": "code",
      "source": [
        "model.evaluate(x_test, y_test, verbose=2)"
      ],
      "metadata": {
        "colab": {
          "base_uri": "https://localhost:8080/"
        },
        "id": "GAscmQFpzI-H",
        "outputId": "607abe16-e8d3-4552-ad69-15b62536f880"
      },
      "execution_count": 25,
      "outputs": [
        {
          "output_type": "stream",
          "name": "stdout",
          "text": [
            "313/313 - 1s - loss: 0.0806 - accuracy: 0.9751 - 647ms/epoch - 2ms/step\n"
          ]
        },
        {
          "output_type": "execute_result",
          "data": {
            "text/plain": [
              "[0.0805639922618866, 0.9750999808311462]"
            ]
          },
          "metadata": {},
          "execution_count": 25
        }
      ]
    }
  ]
}