{
  "cells": [
    {
      "cell_type": "markdown",
      "metadata": {
        "id": "q2BV1TL0u-GR"
      },
      "source": [
        "# Applications of Deep Neural Networks\n",
        "**Module 9: Transfer Learning**\n"
      ]
    },
    {
      "cell_type": "markdown",
      "metadata": {
        "id": "gyyeB513u-GS"
      },
      "source": [
        "# Google CoLab Instructions\n",
        "\n",
        "The following code ensures that Google CoLab is running the correct version of TensorFlow."
      ]
    },
    {
      "cell_type": "code",
      "execution_count": 1,
      "metadata": {
        "id": "Okmp94eLu-GS",
        "outputId": "37f8a57f-60bb-4b36-cd20-fc0bf6b71a45",
        "colab": {
          "base_uri": "https://localhost:8080/"
        }
      },
      "outputs": [
        {
          "output_type": "stream",
          "name": "stdout",
          "text": [
            "Colab only includes TensorFlow 2.x; %tensorflow_version has no effect.\n",
            "Note: using Google CoLab\n"
          ]
        }
      ],
      "source": [
        "# Start CoLab\n",
        "try:\n",
        "    %tensorflow_version 2.x\n",
        "    COLAB = True\n",
        "    print(\"Note: using Google CoLab\")\n",
        "except:\n",
        "    print(\"Note: not using Google CoLab\")\n",
        "    COLAB = False"
      ]
    },
    {
      "cell_type": "markdown",
      "metadata": {
        "id": "NE0HusRwu-GT"
      },
      "source": [
        "# Part 9.1: Introduction to Keras Transfer Learning\n",
        "\n",
        "Human beings learn new skills throughout their entire lives. However, this learning is rarely from scratch. No matter what task a human learns, they are most likely drawing on experiences to learn this new skill early in life. In this way, humans learn much differently than most deep learning projects. \n",
        "\n",
        "A human being learns to tell the difference between a cat and a dog at some point. To teach a neural network, you would obtain many cat pictures and dog pictures. The neural network would iterate over all of these pictures and train on the differences. The human child that learned to distinguish between the two animals would probably need to see a few examples when parents told them the name of each type of animal. The human child would use previous knowledge of looking at different living and non-living objects to help make this classification. The child would already know the physical appearance of sub-objects, such as fur, eyes, ears, noses, tails, and teeth.\n",
        "\n",
        "Transfer learning attempts to teach a neural network by similar means. Rather than training your neural network from scratch, you begin training with a preloaded set of weights. Usually, you will remove the topmost layers of the pretrained neural network and retrain it with new uppermost layers. The layers from the previous neural network will be locked so that training does not change these weights. Only the newly added layers will be trained.  \n",
        "\n",
        "It can take much computing power to train a neural network for a large image dataset. Google, Facebook, Microsoft, and other tech companies have utilized GPU arrays for training high-quality neural networks for various applications. Transferring these weights into your neural network can save considerable effort and compute time. It is unlikely that a pretrained model will exactly fit the application that you seek to implement. Finding the closest pretrained model and using transfer learning is essential for a deep learning engineer.\n",
        "\n",
        "## Transfer Learning Example\n",
        "\n",
        "Let's look at a simple example of using transfer learning to build upon an imagenet neural network. We will begin by training a neural network for Fisher's Iris Dataset. This network takes four measurements and classifies each observation into three iris species. However, what if later we received a data set that included the four measurements, plus a cost as the target? This dataset does not contain the species; as a result, it uses the same four inputs as the base model we just trained.\n",
        "\n",
        "We can take our previously trained iris network and transfer the weights to a new neural network that will learn to predict the cost through transfer learning. Also of note, the original neural network was a classification network, yet we now use it to build a regression neural network. Such a transformation is common for transfer learning. As a reference point, I randomly created this iris cost dataset.\n",
        "\n",
        "The first step is to train our neural network for the regular Iris Dataset. The code presented here is the same as we saw in Module 3."
      ]
    },
    {
      "cell_type": "code",
      "execution_count": 2,
      "metadata": {
        "colab": {
          "base_uri": "https://localhost:8080/"
        },
        "id": "gU7hrCGku-GU",
        "outputId": "2fb1d5f9-c887-44f3-822b-c8ac2aa2bb50"
      },
      "outputs": [
        {
          "output_type": "stream",
          "name": "stdout",
          "text": [
            "Epoch 1/100\n",
            "5/5 - 1s - loss: 1.3247 - 870ms/epoch - 174ms/step\n",
            "Epoch 2/100\n",
            "5/5 - 0s - loss: 1.1376 - 19ms/epoch - 4ms/step\n",
            "Epoch 3/100\n",
            "5/5 - 0s - loss: 1.0280 - 20ms/epoch - 4ms/step\n",
            "Epoch 4/100\n",
            "5/5 - 0s - loss: 0.9617 - 13ms/epoch - 3ms/step\n",
            "Epoch 5/100\n",
            "5/5 - 0s - loss: 0.9130 - 15ms/epoch - 3ms/step\n",
            "Epoch 6/100\n",
            "5/5 - 0s - loss: 0.8740 - 16ms/epoch - 3ms/step\n",
            "Epoch 7/100\n",
            "5/5 - 0s - loss: 0.8308 - 15ms/epoch - 3ms/step\n",
            "Epoch 8/100\n",
            "5/5 - 0s - loss: 0.7882 - 13ms/epoch - 3ms/step\n",
            "Epoch 9/100\n",
            "5/5 - 0s - loss: 0.7478 - 11ms/epoch - 2ms/step\n",
            "Epoch 10/100\n",
            "5/5 - 0s - loss: 0.7087 - 13ms/epoch - 3ms/step\n",
            "Epoch 11/100\n",
            "5/5 - 0s - loss: 0.6685 - 12ms/epoch - 2ms/step\n",
            "Epoch 12/100\n",
            "5/5 - 0s - loss: 0.6321 - 13ms/epoch - 3ms/step\n",
            "Epoch 13/100\n",
            "5/5 - 0s - loss: 0.5976 - 13ms/epoch - 3ms/step\n",
            "Epoch 14/100\n",
            "5/5 - 0s - loss: 0.5675 - 15ms/epoch - 3ms/step\n",
            "Epoch 15/100\n",
            "5/5 - 0s - loss: 0.5408 - 13ms/epoch - 3ms/step\n",
            "Epoch 16/100\n",
            "5/5 - 0s - loss: 0.5158 - 14ms/epoch - 3ms/step\n",
            "Epoch 17/100\n",
            "5/5 - 0s - loss: 0.4934 - 15ms/epoch - 3ms/step\n",
            "Epoch 18/100\n",
            "5/5 - 0s - loss: 0.4725 - 12ms/epoch - 2ms/step\n",
            "Epoch 19/100\n",
            "5/5 - 0s - loss: 0.4552 - 13ms/epoch - 3ms/step\n",
            "Epoch 20/100\n",
            "5/5 - 0s - loss: 0.4388 - 14ms/epoch - 3ms/step\n",
            "Epoch 21/100\n",
            "5/5 - 0s - loss: 0.4226 - 12ms/epoch - 2ms/step\n",
            "Epoch 22/100\n",
            "5/5 - 0s - loss: 0.4091 - 13ms/epoch - 3ms/step\n",
            "Epoch 23/100\n",
            "5/5 - 0s - loss: 0.3965 - 12ms/epoch - 2ms/step\n",
            "Epoch 24/100\n",
            "5/5 - 0s - loss: 0.3834 - 15ms/epoch - 3ms/step\n",
            "Epoch 25/100\n",
            "5/5 - 0s - loss: 0.3692 - 15ms/epoch - 3ms/step\n",
            "Epoch 26/100\n",
            "5/5 - 0s - loss: 0.3592 - 11ms/epoch - 2ms/step\n",
            "Epoch 27/100\n",
            "5/5 - 0s - loss: 0.3486 - 19ms/epoch - 4ms/step\n",
            "Epoch 28/100\n",
            "5/5 - 0s - loss: 0.3382 - 14ms/epoch - 3ms/step\n",
            "Epoch 29/100\n",
            "5/5 - 0s - loss: 0.3293 - 14ms/epoch - 3ms/step\n",
            "Epoch 30/100\n",
            "5/5 - 0s - loss: 0.3217 - 13ms/epoch - 3ms/step\n",
            "Epoch 31/100\n",
            "5/5 - 0s - loss: 0.3112 - 16ms/epoch - 3ms/step\n",
            "Epoch 32/100\n",
            "5/5 - 0s - loss: 0.3020 - 17ms/epoch - 3ms/step\n",
            "Epoch 33/100\n",
            "5/5 - 0s - loss: 0.2936 - 14ms/epoch - 3ms/step\n",
            "Epoch 34/100\n",
            "5/5 - 0s - loss: 0.2851 - 13ms/epoch - 3ms/step\n",
            "Epoch 35/100\n",
            "5/5 - 0s - loss: 0.2782 - 15ms/epoch - 3ms/step\n",
            "Epoch 36/100\n",
            "5/5 - 0s - loss: 0.2697 - 16ms/epoch - 3ms/step\n",
            "Epoch 37/100\n",
            "5/5 - 0s - loss: 0.2604 - 17ms/epoch - 3ms/step\n",
            "Epoch 38/100\n",
            "5/5 - 0s - loss: 0.2545 - 13ms/epoch - 3ms/step\n",
            "Epoch 39/100\n",
            "5/5 - 0s - loss: 0.2476 - 17ms/epoch - 3ms/step\n",
            "Epoch 40/100\n",
            "5/5 - 0s - loss: 0.2378 - 15ms/epoch - 3ms/step\n",
            "Epoch 41/100\n",
            "5/5 - 0s - loss: 0.2346 - 15ms/epoch - 3ms/step\n",
            "Epoch 42/100\n",
            "5/5 - 0s - loss: 0.2270 - 14ms/epoch - 3ms/step\n",
            "Epoch 43/100\n",
            "5/5 - 0s - loss: 0.2216 - 12ms/epoch - 2ms/step\n",
            "Epoch 44/100\n",
            "5/5 - 0s - loss: 0.2137 - 14ms/epoch - 3ms/step\n",
            "Epoch 45/100\n",
            "5/5 - 0s - loss: 0.2046 - 12ms/epoch - 2ms/step\n",
            "Epoch 46/100\n",
            "5/5 - 0s - loss: 0.1979 - 15ms/epoch - 3ms/step\n",
            "Epoch 47/100\n",
            "5/5 - 0s - loss: 0.1898 - 14ms/epoch - 3ms/step\n",
            "Epoch 48/100\n",
            "5/5 - 0s - loss: 0.1830 - 13ms/epoch - 3ms/step\n",
            "Epoch 49/100\n",
            "5/5 - 0s - loss: 0.1802 - 18ms/epoch - 4ms/step\n",
            "Epoch 50/100\n",
            "5/5 - 0s - loss: 0.1751 - 17ms/epoch - 3ms/step\n",
            "Epoch 51/100\n",
            "5/5 - 0s - loss: 0.1688 - 26ms/epoch - 5ms/step\n",
            "Epoch 52/100\n",
            "5/5 - 0s - loss: 0.1635 - 26ms/epoch - 5ms/step\n",
            "Epoch 53/100\n",
            "5/5 - 0s - loss: 0.1577 - 22ms/epoch - 4ms/step\n",
            "Epoch 54/100\n",
            "5/5 - 0s - loss: 0.1560 - 14ms/epoch - 3ms/step\n",
            "Epoch 55/100\n",
            "5/5 - 0s - loss: 0.1543 - 13ms/epoch - 3ms/step\n",
            "Epoch 56/100\n",
            "5/5 - 0s - loss: 0.1449 - 15ms/epoch - 3ms/step\n",
            "Epoch 57/100\n",
            "5/5 - 0s - loss: 0.1441 - 18ms/epoch - 4ms/step\n",
            "Epoch 58/100\n",
            "5/5 - 0s - loss: 0.1377 - 15ms/epoch - 3ms/step\n",
            "Epoch 59/100\n",
            "5/5 - 0s - loss: 0.1377 - 14ms/epoch - 3ms/step\n",
            "Epoch 60/100\n",
            "5/5 - 0s - loss: 0.1324 - 11ms/epoch - 2ms/step\n",
            "Epoch 61/100\n",
            "5/5 - 0s - loss: 0.1312 - 14ms/epoch - 3ms/step\n",
            "Epoch 62/100\n",
            "5/5 - 0s - loss: 0.1304 - 13ms/epoch - 3ms/step\n",
            "Epoch 63/100\n",
            "5/5 - 0s - loss: 0.1237 - 14ms/epoch - 3ms/step\n",
            "Epoch 64/100\n",
            "5/5 - 0s - loss: 0.1265 - 15ms/epoch - 3ms/step\n",
            "Epoch 65/100\n",
            "5/5 - 0s - loss: 0.1273 - 15ms/epoch - 3ms/step\n",
            "Epoch 66/100\n",
            "5/5 - 0s - loss: 0.1207 - 13ms/epoch - 3ms/step\n",
            "Epoch 67/100\n",
            "5/5 - 0s - loss: 0.1163 - 15ms/epoch - 3ms/step\n",
            "Epoch 68/100\n",
            "5/5 - 0s - loss: 0.1112 - 15ms/epoch - 3ms/step\n",
            "Epoch 69/100\n",
            "5/5 - 0s - loss: 0.1151 - 13ms/epoch - 3ms/step\n",
            "Epoch 70/100\n",
            "5/5 - 0s - loss: 0.1169 - 17ms/epoch - 3ms/step\n",
            "Epoch 71/100\n",
            "5/5 - 0s - loss: 0.1144 - 17ms/epoch - 3ms/step\n",
            "Epoch 72/100\n",
            "5/5 - 0s - loss: 0.1074 - 15ms/epoch - 3ms/step\n",
            "Epoch 73/100\n",
            "5/5 - 0s - loss: 0.1061 - 14ms/epoch - 3ms/step\n",
            "Epoch 74/100\n",
            "5/5 - 0s - loss: 0.1051 - 15ms/epoch - 3ms/step\n",
            "Epoch 75/100\n",
            "5/5 - 0s - loss: 0.1038 - 16ms/epoch - 3ms/step\n",
            "Epoch 76/100\n",
            "5/5 - 0s - loss: 0.1032 - 15ms/epoch - 3ms/step\n",
            "Epoch 77/100\n",
            "5/5 - 0s - loss: 0.1021 - 16ms/epoch - 3ms/step\n",
            "Epoch 78/100\n",
            "5/5 - 0s - loss: 0.0987 - 11ms/epoch - 2ms/step\n",
            "Epoch 79/100\n",
            "5/5 - 0s - loss: 0.0972 - 24ms/epoch - 5ms/step\n",
            "Epoch 80/100\n",
            "5/5 - 0s - loss: 0.0965 - 13ms/epoch - 3ms/step\n",
            "Epoch 81/100\n",
            "5/5 - 0s - loss: 0.0948 - 12ms/epoch - 2ms/step\n",
            "Epoch 82/100\n",
            "5/5 - 0s - loss: 0.0936 - 15ms/epoch - 3ms/step\n",
            "Epoch 83/100\n",
            "5/5 - 0s - loss: 0.0918 - 15ms/epoch - 3ms/step\n",
            "Epoch 84/100\n",
            "5/5 - 0s - loss: 0.0940 - 13ms/epoch - 3ms/step\n",
            "Epoch 85/100\n",
            "5/5 - 0s - loss: 0.0915 - 11ms/epoch - 2ms/step\n",
            "Epoch 86/100\n",
            "5/5 - 0s - loss: 0.0958 - 14ms/epoch - 3ms/step\n",
            "Epoch 87/100\n",
            "5/5 - 0s - loss: 0.0860 - 13ms/epoch - 3ms/step\n",
            "Epoch 88/100\n",
            "5/5 - 0s - loss: 0.0936 - 12ms/epoch - 2ms/step\n",
            "Epoch 89/100\n",
            "5/5 - 0s - loss: 0.0864 - 12ms/epoch - 2ms/step\n",
            "Epoch 90/100\n",
            "5/5 - 0s - loss: 0.0871 - 12ms/epoch - 2ms/step\n",
            "Epoch 91/100\n",
            "5/5 - 0s - loss: 0.0847 - 23ms/epoch - 5ms/step\n",
            "Epoch 92/100\n",
            "5/5 - 0s - loss: 0.0870 - 14ms/epoch - 3ms/step\n",
            "Epoch 93/100\n",
            "5/5 - 0s - loss: 0.0832 - 15ms/epoch - 3ms/step\n",
            "Epoch 94/100\n",
            "5/5 - 0s - loss: 0.0824 - 18ms/epoch - 4ms/step\n",
            "Epoch 95/100\n",
            "5/5 - 0s - loss: 0.0830 - 13ms/epoch - 3ms/step\n",
            "Epoch 96/100\n",
            "5/5 - 0s - loss: 0.0809 - 13ms/epoch - 3ms/step\n",
            "Epoch 97/100\n",
            "5/5 - 0s - loss: 0.0815 - 13ms/epoch - 3ms/step\n",
            "Epoch 98/100\n",
            "5/5 - 0s - loss: 0.0810 - 15ms/epoch - 3ms/step\n",
            "Epoch 99/100\n",
            "5/5 - 0s - loss: 0.0806 - 20ms/epoch - 4ms/step\n",
            "Epoch 100/100\n",
            "5/5 - 0s - loss: 0.0798 - 16ms/epoch - 3ms/step\n"
          ]
        },
        {
          "output_type": "execute_result",
          "data": {
            "text/plain": [
              "<keras.callbacks.History at 0x7fb0812ab1c0>"
            ]
          },
          "metadata": {},
          "execution_count": 2
        }
      ],
      "source": [
        "import pandas as pd\n",
        "import io\n",
        "import requests\n",
        "import numpy as np\n",
        "from sklearn import metrics\n",
        "from tensorflow.keras.models import Sequential\n",
        "from tensorflow.keras.layers import Dense, Activation\n",
        "from tensorflow.keras.callbacks import EarlyStopping\n",
        "\n",
        "df = pd.read_csv(\n",
        "    \"https://data.heatonresearch.com/data/t81-558/iris.csv\", \n",
        "    na_values=['NA', '?'])\n",
        "\n",
        "# Convert to numpy - Classification\n",
        "x = df[['sepal_l', 'sepal_w', 'petal_l', 'petal_w']].values\n",
        "dummies = pd.get_dummies(df['species']) # Classification\n",
        "species = dummies.columns\n",
        "y = dummies.values\n",
        "\n",
        "\n",
        "# Build neural network\n",
        "model = Sequential()\n",
        "model.add(Dense(50, input_dim=x.shape[1], activation='relu')) # Hidden 1\n",
        "model.add(Dense(25, activation='relu')) # Hidden 2\n",
        "model.add(Dense(y.shape[1],activation='softmax')) # Output\n",
        "\n",
        "model.compile(loss='categorical_crossentropy', optimizer='adam')\n",
        "model.fit(x,y,verbose=2,epochs=100)"
      ]
    },
    {
      "cell_type": "markdown",
      "metadata": {
        "id": "s8TRnJOUu-GV"
      },
      "source": [
        "To keep this example simple, we are not setting aside a validation set.  The goal of this example is to show how to create a multi-layer neural network, where we transfer the weights to another network.  We begin by evaluating the accuracy of the network on the training set.\n"
      ]
    },
    {
      "cell_type": "code",
      "execution_count": 3,
      "metadata": {
        "colab": {
          "base_uri": "https://localhost:8080/"
        },
        "id": "ssZrMUaeu-GV",
        "outputId": "28ee6ba5-167b-4450-d6b7-eb918f1e1b6a"
      },
      "outputs": [
        {
          "output_type": "stream",
          "name": "stdout",
          "text": [
            "5/5 [==============================] - 0s 2ms/step\n",
            "Training Accuracy: 0.98\n"
          ]
        }
      ],
      "source": [
        "from sklearn.metrics import accuracy_score\n",
        "pred = model.predict(x)\n",
        "predict_classes = np.argmax(pred,axis=1)\n",
        "expected_classes = np.argmax(y,axis=1)\n",
        "correct = accuracy_score(expected_classes,predict_classes)\n",
        "print(f\"Training Accuracy: {correct}\")"
      ]
    },
    {
      "cell_type": "markdown",
      "metadata": {
        "id": "4oElXastu-GW"
      },
      "source": [
        "Viewing the model summary is as expected; we can see the three layers previously defined."
      ]
    },
    {
      "cell_type": "code",
      "execution_count": 4,
      "metadata": {
        "colab": {
          "base_uri": "https://localhost:8080/"
        },
        "id": "tc8-F-1lu-GW",
        "outputId": "5b0d8e42-73d0-4760-9bae-a48eaa03a5a0"
      },
      "outputs": [
        {
          "output_type": "stream",
          "name": "stdout",
          "text": [
            "Model: \"sequential\"\n",
            "_________________________________________________________________\n",
            " Layer (type)                Output Shape              Param #   \n",
            "=================================================================\n",
            " dense (Dense)               (None, 50)                250       \n",
            "                                                                 \n",
            " dense_1 (Dense)             (None, 25)                1275      \n",
            "                                                                 \n",
            " dense_2 (Dense)             (None, 3)                 78        \n",
            "                                                                 \n",
            "=================================================================\n",
            "Total params: 1,603\n",
            "Trainable params: 1,603\n",
            "Non-trainable params: 0\n",
            "_________________________________________________________________\n"
          ]
        }
      ],
      "source": [
        "model.summary()"
      ]
    },
    {
      "cell_type": "markdown",
      "metadata": {
        "id": "RXZbvEbbu-GW"
      },
      "source": [
        "## Create a New Iris Network\n",
        "\n",
        "Now that we've trained a neural network on the iris dataset, we can transfer the knowledge of this neural network to other neural networks. It is possible to create a new neural network from some or all of the layers of this neural network. We will create a new neural network that is essentially a clone of the first neural network to demonstrate the technique. We now transfer all of the layers from the original neural network into the new one."
      ]
    },
    {
      "cell_type": "code",
      "execution_count": 5,
      "metadata": {
        "colab": {
          "base_uri": "https://localhost:8080/"
        },
        "id": "M79VumhTu-GW",
        "outputId": "d0226290-b99f-47cd-dcad-c35881dba03c"
      },
      "outputs": [
        {
          "output_type": "stream",
          "name": "stdout",
          "text": [
            "Model: \"sequential_1\"\n",
            "_________________________________________________________________\n",
            " Layer (type)                Output Shape              Param #   \n",
            "=================================================================\n",
            " dense (Dense)               (None, 50)                250       \n",
            "                                                                 \n",
            " dense_1 (Dense)             (None, 25)                1275      \n",
            "                                                                 \n",
            " dense_2 (Dense)             (None, 3)                 78        \n",
            "                                                                 \n",
            "=================================================================\n",
            "Total params: 1,603\n",
            "Trainable params: 1,603\n",
            "Non-trainable params: 0\n",
            "_________________________________________________________________\n"
          ]
        }
      ],
      "source": [
        "model2 = Sequential()\n",
        "for layer in model.layers:\n",
        "    model2.add(layer)\n",
        "model2.summary()"
      ]
    },
    {
      "cell_type": "markdown",
      "metadata": {
        "id": "-dQ7BeJ-u-GW"
      },
      "source": [
        "As a sanity check, we would like to calculate the accuracy of the newly created model.  The in-sample accuracy should be the same as the previous model that the new model transferred."
      ]
    },
    {
      "cell_type": "code",
      "execution_count": 6,
      "metadata": {
        "colab": {
          "base_uri": "https://localhost:8080/"
        },
        "id": "lzkErX1Ku-GX",
        "outputId": "1d33d088-a076-4201-9445-b0d7dc22ad77"
      },
      "outputs": [
        {
          "output_type": "stream",
          "name": "stdout",
          "text": [
            "5/5 [==============================] - 0s 2ms/step\n",
            "Training Accuracy: 0.98\n"
          ]
        }
      ],
      "source": [
        "from sklearn.metrics import accuracy_score\n",
        "pred = model2.predict(x)\n",
        "predict_classes = np.argmax(pred,axis=1)\n",
        "expected_classes = np.argmax(y,axis=1)\n",
        "correct = accuracy_score(expected_classes,predict_classes)\n",
        "print(f\"Training Accuracy: {correct}\")"
      ]
    },
    {
      "cell_type": "markdown",
      "metadata": {
        "id": "6Y-0VOYvu-GX"
      },
      "source": [
        "The in-sample accuracy of the newly created neural network is the same as the first neural network. We've successfully transferred all of the layers from the original neural network.\n",
        "\n",
        "## Transfering to a Regression Network\n",
        "\n",
        "The Iris Cost Dataset has measurements for samples of these flowers that conform to the predictors contained in the original iris dataset: sepal width, sepal length, petal width, and petal length. We present the cost dataset here."
      ]
    },
    {
      "cell_type": "code",
      "execution_count": 7,
      "metadata": {
        "colab": {
          "base_uri": "https://localhost:8080/",
          "height": 423
        },
        "id": "6ZohkVGx5ukW",
        "outputId": "25842643-15fb-47bf-c741-b0ccac5558b9"
      },
      "outputs": [
        {
          "output_type": "execute_result",
          "data": {
            "text/plain": [
              "     sepal_l  sepal_w  petal_l  petal_w    cost\n",
              "0        7.8      3.0      6.2      2.0  10.740\n",
              "1        5.0      2.2      1.7      1.5   2.710\n",
              "2        6.9      2.6      3.7      1.4   4.624\n",
              "3        5.9      2.2      3.7      2.4   6.558\n",
              "4        5.1      3.9      6.8      0.7   7.395\n",
              "..       ...      ...      ...      ...     ...\n",
              "245      4.7      2.1      4.0      2.3   5.721\n",
              "246      7.2      3.0      4.3      1.1   5.266\n",
              "247      6.6      3.4      4.6      1.4   5.776\n",
              "248      5.7      3.7      3.1      0.4   2.233\n",
              "249      7.6      4.0      5.1      1.4   7.508\n",
              "\n",
              "[250 rows x 5 columns]"
            ],
            "text/html": [
              "\n",
              "  <div id=\"df-1221c629-3a6c-449c-8114-9ae79ebe5c18\">\n",
              "    <div class=\"colab-df-container\">\n",
              "      <div>\n",
              "<style scoped>\n",
              "    .dataframe tbody tr th:only-of-type {\n",
              "        vertical-align: middle;\n",
              "    }\n",
              "\n",
              "    .dataframe tbody tr th {\n",
              "        vertical-align: top;\n",
              "    }\n",
              "\n",
              "    .dataframe thead th {\n",
              "        text-align: right;\n",
              "    }\n",
              "</style>\n",
              "<table border=\"1\" class=\"dataframe\">\n",
              "  <thead>\n",
              "    <tr style=\"text-align: right;\">\n",
              "      <th></th>\n",
              "      <th>sepal_l</th>\n",
              "      <th>sepal_w</th>\n",
              "      <th>petal_l</th>\n",
              "      <th>petal_w</th>\n",
              "      <th>cost</th>\n",
              "    </tr>\n",
              "  </thead>\n",
              "  <tbody>\n",
              "    <tr>\n",
              "      <th>0</th>\n",
              "      <td>7.8</td>\n",
              "      <td>3.0</td>\n",
              "      <td>6.2</td>\n",
              "      <td>2.0</td>\n",
              "      <td>10.740</td>\n",
              "    </tr>\n",
              "    <tr>\n",
              "      <th>1</th>\n",
              "      <td>5.0</td>\n",
              "      <td>2.2</td>\n",
              "      <td>1.7</td>\n",
              "      <td>1.5</td>\n",
              "      <td>2.710</td>\n",
              "    </tr>\n",
              "    <tr>\n",
              "      <th>2</th>\n",
              "      <td>6.9</td>\n",
              "      <td>2.6</td>\n",
              "      <td>3.7</td>\n",
              "      <td>1.4</td>\n",
              "      <td>4.624</td>\n",
              "    </tr>\n",
              "    <tr>\n",
              "      <th>3</th>\n",
              "      <td>5.9</td>\n",
              "      <td>2.2</td>\n",
              "      <td>3.7</td>\n",
              "      <td>2.4</td>\n",
              "      <td>6.558</td>\n",
              "    </tr>\n",
              "    <tr>\n",
              "      <th>4</th>\n",
              "      <td>5.1</td>\n",
              "      <td>3.9</td>\n",
              "      <td>6.8</td>\n",
              "      <td>0.7</td>\n",
              "      <td>7.395</td>\n",
              "    </tr>\n",
              "    <tr>\n",
              "      <th>...</th>\n",
              "      <td>...</td>\n",
              "      <td>...</td>\n",
              "      <td>...</td>\n",
              "      <td>...</td>\n",
              "      <td>...</td>\n",
              "    </tr>\n",
              "    <tr>\n",
              "      <th>245</th>\n",
              "      <td>4.7</td>\n",
              "      <td>2.1</td>\n",
              "      <td>4.0</td>\n",
              "      <td>2.3</td>\n",
              "      <td>5.721</td>\n",
              "    </tr>\n",
              "    <tr>\n",
              "      <th>246</th>\n",
              "      <td>7.2</td>\n",
              "      <td>3.0</td>\n",
              "      <td>4.3</td>\n",
              "      <td>1.1</td>\n",
              "      <td>5.266</td>\n",
              "    </tr>\n",
              "    <tr>\n",
              "      <th>247</th>\n",
              "      <td>6.6</td>\n",
              "      <td>3.4</td>\n",
              "      <td>4.6</td>\n",
              "      <td>1.4</td>\n",
              "      <td>5.776</td>\n",
              "    </tr>\n",
              "    <tr>\n",
              "      <th>248</th>\n",
              "      <td>5.7</td>\n",
              "      <td>3.7</td>\n",
              "      <td>3.1</td>\n",
              "      <td>0.4</td>\n",
              "      <td>2.233</td>\n",
              "    </tr>\n",
              "    <tr>\n",
              "      <th>249</th>\n",
              "      <td>7.6</td>\n",
              "      <td>4.0</td>\n",
              "      <td>5.1</td>\n",
              "      <td>1.4</td>\n",
              "      <td>7.508</td>\n",
              "    </tr>\n",
              "  </tbody>\n",
              "</table>\n",
              "<p>250 rows × 5 columns</p>\n",
              "</div>\n",
              "      <button class=\"colab-df-convert\" onclick=\"convertToInteractive('df-1221c629-3a6c-449c-8114-9ae79ebe5c18')\"\n",
              "              title=\"Convert this dataframe to an interactive table.\"\n",
              "              style=\"display:none;\">\n",
              "        \n",
              "  <svg xmlns=\"http://www.w3.org/2000/svg\" height=\"24px\"viewBox=\"0 0 24 24\"\n",
              "       width=\"24px\">\n",
              "    <path d=\"M0 0h24v24H0V0z\" fill=\"none\"/>\n",
              "    <path d=\"M18.56 5.44l.94 2.06.94-2.06 2.06-.94-2.06-.94-.94-2.06-.94 2.06-2.06.94zm-11 1L8.5 8.5l.94-2.06 2.06-.94-2.06-.94L8.5 2.5l-.94 2.06-2.06.94zm10 10l.94 2.06.94-2.06 2.06-.94-2.06-.94-.94-2.06-.94 2.06-2.06.94z\"/><path d=\"M17.41 7.96l-1.37-1.37c-.4-.4-.92-.59-1.43-.59-.52 0-1.04.2-1.43.59L10.3 9.45l-7.72 7.72c-.78.78-.78 2.05 0 2.83L4 21.41c.39.39.9.59 1.41.59.51 0 1.02-.2 1.41-.59l7.78-7.78 2.81-2.81c.8-.78.8-2.07 0-2.86zM5.41 20L4 18.59l7.72-7.72 1.47 1.35L5.41 20z\"/>\n",
              "  </svg>\n",
              "      </button>\n",
              "      \n",
              "  <style>\n",
              "    .colab-df-container {\n",
              "      display:flex;\n",
              "      flex-wrap:wrap;\n",
              "      gap: 12px;\n",
              "    }\n",
              "\n",
              "    .colab-df-convert {\n",
              "      background-color: #E8F0FE;\n",
              "      border: none;\n",
              "      border-radius: 50%;\n",
              "      cursor: pointer;\n",
              "      display: none;\n",
              "      fill: #1967D2;\n",
              "      height: 32px;\n",
              "      padding: 0 0 0 0;\n",
              "      width: 32px;\n",
              "    }\n",
              "\n",
              "    .colab-df-convert:hover {\n",
              "      background-color: #E2EBFA;\n",
              "      box-shadow: 0px 1px 2px rgba(60, 64, 67, 0.3), 0px 1px 3px 1px rgba(60, 64, 67, 0.15);\n",
              "      fill: #174EA6;\n",
              "    }\n",
              "\n",
              "    [theme=dark] .colab-df-convert {\n",
              "      background-color: #3B4455;\n",
              "      fill: #D2E3FC;\n",
              "    }\n",
              "\n",
              "    [theme=dark] .colab-df-convert:hover {\n",
              "      background-color: #434B5C;\n",
              "      box-shadow: 0px 1px 3px 1px rgba(0, 0, 0, 0.15);\n",
              "      filter: drop-shadow(0px 1px 2px rgba(0, 0, 0, 0.3));\n",
              "      fill: #FFFFFF;\n",
              "    }\n",
              "  </style>\n",
              "\n",
              "      <script>\n",
              "        const buttonEl =\n",
              "          document.querySelector('#df-1221c629-3a6c-449c-8114-9ae79ebe5c18 button.colab-df-convert');\n",
              "        buttonEl.style.display =\n",
              "          google.colab.kernel.accessAllowed ? 'block' : 'none';\n",
              "\n",
              "        async function convertToInteractive(key) {\n",
              "          const element = document.querySelector('#df-1221c629-3a6c-449c-8114-9ae79ebe5c18');\n",
              "          const dataTable =\n",
              "            await google.colab.kernel.invokeFunction('convertToInteractive',\n",
              "                                                     [key], {});\n",
              "          if (!dataTable) return;\n",
              "\n",
              "          const docLinkHtml = 'Like what you see? Visit the ' +\n",
              "            '<a target=\"_blank\" href=https://colab.research.google.com/notebooks/data_table.ipynb>data table notebook</a>'\n",
              "            + ' to learn more about interactive tables.';\n",
              "          element.innerHTML = '';\n",
              "          dataTable['output_type'] = 'display_data';\n",
              "          await google.colab.output.renderOutput(dataTable, element);\n",
              "          const docLink = document.createElement('div');\n",
              "          docLink.innerHTML = docLinkHtml;\n",
              "          element.appendChild(docLink);\n",
              "        }\n",
              "      </script>\n",
              "    </div>\n",
              "  </div>\n",
              "  "
            ]
          },
          "metadata": {},
          "execution_count": 7
        }
      ],
      "source": [
        "df_cost = pd.read_csv(\n",
        "    \"https://data.heatonresearch.com/data/t81-558/iris_cost.csv\", \n",
        "    na_values=['NA', '?'])\n",
        "\n",
        "df_cost"
      ]
    },
    {
      "cell_type": "markdown",
      "metadata": {
        "id": "31Zz7cyU6DGT"
      },
      "source": [
        "For transfer learning to be effective, the input for the newly trained neural network most closely conforms to the first neural network we transfer.\n",
        "\n",
        "We will strip away the last output layer that contains the softmax activation function that performs this final classification. We will create a new output layer that will output the cost prediction. We will only train the weights in this new layer. We will mark the first two layers as non-trainable. The hope is that the first few layers have learned to abstract the raw input data in a way that is also helpful to the new neural network.\n",
        "This process is accomplished by looping over the first few layers and copying them to the new neural network. We output a summary of the new neural network to verify that Keras stripped the previous output layer."
      ]
    },
    {
      "cell_type": "code",
      "execution_count": 8,
      "metadata": {
        "colab": {
          "base_uri": "https://localhost:8080/"
        },
        "id": "EE2mBp98u-GX",
        "outputId": "1817764e-bce4-4071-a8e8-33185a7cdf40"
      },
      "outputs": [
        {
          "output_type": "stream",
          "name": "stdout",
          "text": [
            "Model: \"sequential_2\"\n",
            "_________________________________________________________________\n",
            " Layer (type)                Output Shape              Param #   \n",
            "=================================================================\n",
            " dense (Dense)               (None, 50)                250       \n",
            "                                                                 \n",
            " dense_1 (Dense)             (None, 25)                1275      \n",
            "                                                                 \n",
            "=================================================================\n",
            "Total params: 1,525\n",
            "Trainable params: 0\n",
            "Non-trainable params: 1,525\n",
            "_________________________________________________________________\n"
          ]
        }
      ],
      "source": [
        "model3 = Sequential()\n",
        "for i in range(2):\n",
        "    layer = model.layers[i]\n",
        "    layer.trainable = False\n",
        "    model3.add(layer)\n",
        "model3.summary()"
      ]
    },
    {
      "cell_type": "markdown",
      "metadata": {
        "id": "38iQTGH0u-GX"
      },
      "source": [
        "We add a final regression output layer to complete the new neural network."
      ]
    },
    {
      "cell_type": "code",
      "execution_count": 9,
      "metadata": {
        "colab": {
          "base_uri": "https://localhost:8080/"
        },
        "id": "pcWB19aPu-GX",
        "outputId": "321f6bf1-99ad-4d27-c7b4-87897815b13a"
      },
      "outputs": [
        {
          "output_type": "stream",
          "name": "stdout",
          "text": [
            "Model: \"sequential_2\"\n",
            "_________________________________________________________________\n",
            " Layer (type)                Output Shape              Param #   \n",
            "=================================================================\n",
            " dense (Dense)               (None, 50)                250       \n",
            "                                                                 \n",
            " dense_1 (Dense)             (None, 25)                1275      \n",
            "                                                                 \n",
            " dense_3 (Dense)             (None, 1)                 26        \n",
            "                                                                 \n",
            "=================================================================\n",
            "Total params: 1,551\n",
            "Trainable params: 26\n",
            "Non-trainable params: 1,525\n",
            "_________________________________________________________________\n"
          ]
        }
      ],
      "source": [
        "model3.add(Dense(1)) # Output\n",
        "\n",
        "model3.compile(loss='mean_squared_error', optimizer='adam')\n",
        "model3.summary()"
      ]
    },
    {
      "cell_type": "markdown",
      "metadata": {
        "id": "0by_NO-9u-GX"
      },
      "source": [
        "Now we train just the output layer to predict the cost. The cost in the made-up dataset is dependent on the species, so the previous learning should be helpful."
      ]
    },
    {
      "cell_type": "code",
      "execution_count": 10,
      "metadata": {
        "colab": {
          "base_uri": "https://localhost:8080/"
        },
        "id": "sVV5IXYxu-GY",
        "outputId": "e1407312-ab99-40cf-dcdd-2083b9137e8d"
      },
      "outputs": [
        {
          "output_type": "stream",
          "name": "stdout",
          "text": [
            "Epoch 1/100\n",
            "8/8 - 0s - loss: 12.5168 - 359ms/epoch - 45ms/step\n",
            "Epoch 2/100\n",
            "8/8 - 0s - loss: 11.7801 - 15ms/epoch - 2ms/step\n",
            "Epoch 3/100\n",
            "8/8 - 0s - loss: 11.0720 - 14ms/epoch - 2ms/step\n",
            "Epoch 4/100\n",
            "8/8 - 0s - loss: 10.4036 - 16ms/epoch - 2ms/step\n",
            "Epoch 5/100\n",
            "8/8 - 0s - loss: 9.8000 - 15ms/epoch - 2ms/step\n",
            "Epoch 6/100\n",
            "8/8 - 0s - loss: 9.2022 - 14ms/epoch - 2ms/step\n",
            "Epoch 7/100\n",
            "8/8 - 0s - loss: 8.6697 - 15ms/epoch - 2ms/step\n",
            "Epoch 8/100\n",
            "8/8 - 0s - loss: 8.1580 - 15ms/epoch - 2ms/step\n",
            "Epoch 9/100\n",
            "8/8 - 0s - loss: 7.6636 - 14ms/epoch - 2ms/step\n",
            "Epoch 10/100\n",
            "8/8 - 0s - loss: 7.2152 - 14ms/epoch - 2ms/step\n",
            "Epoch 11/100\n",
            "8/8 - 0s - loss: 6.8046 - 16ms/epoch - 2ms/step\n",
            "Epoch 12/100\n",
            "8/8 - 0s - loss: 6.3750 - 14ms/epoch - 2ms/step\n",
            "Epoch 13/100\n",
            "8/8 - 0s - loss: 6.0108 - 16ms/epoch - 2ms/step\n",
            "Epoch 14/100\n",
            "8/8 - 0s - loss: 5.6664 - 14ms/epoch - 2ms/step\n",
            "Epoch 15/100\n",
            "8/8 - 0s - loss: 5.3360 - 13ms/epoch - 2ms/step\n",
            "Epoch 16/100\n",
            "8/8 - 0s - loss: 5.0287 - 14ms/epoch - 2ms/step\n",
            "Epoch 17/100\n",
            "8/8 - 0s - loss: 4.7560 - 14ms/epoch - 2ms/step\n",
            "Epoch 18/100\n",
            "8/8 - 0s - loss: 4.4833 - 14ms/epoch - 2ms/step\n",
            "Epoch 19/100\n",
            "8/8 - 0s - loss: 4.2522 - 13ms/epoch - 2ms/step\n",
            "Epoch 20/100\n",
            "8/8 - 0s - loss: 4.0154 - 15ms/epoch - 2ms/step\n",
            "Epoch 21/100\n",
            "8/8 - 0s - loss: 3.8069 - 14ms/epoch - 2ms/step\n",
            "Epoch 22/100\n",
            "8/8 - 0s - loss: 3.6110 - 15ms/epoch - 2ms/step\n",
            "Epoch 23/100\n",
            "8/8 - 0s - loss: 3.4368 - 13ms/epoch - 2ms/step\n",
            "Epoch 24/100\n",
            "8/8 - 0s - loss: 3.2717 - 14ms/epoch - 2ms/step\n",
            "Epoch 25/100\n",
            "8/8 - 0s - loss: 3.1194 - 14ms/epoch - 2ms/step\n",
            "Epoch 26/100\n",
            "8/8 - 0s - loss: 2.9765 - 15ms/epoch - 2ms/step\n",
            "Epoch 27/100\n",
            "8/8 - 0s - loss: 2.8498 - 14ms/epoch - 2ms/step\n",
            "Epoch 28/100\n",
            "8/8 - 0s - loss: 2.7376 - 14ms/epoch - 2ms/step\n",
            "Epoch 29/100\n",
            "8/8 - 0s - loss: 2.6270 - 25ms/epoch - 3ms/step\n",
            "Epoch 30/100\n",
            "8/8 - 0s - loss: 2.5319 - 30ms/epoch - 4ms/step\n",
            "Epoch 31/100\n",
            "8/8 - 0s - loss: 2.4439 - 16ms/epoch - 2ms/step\n",
            "Epoch 32/100\n",
            "8/8 - 0s - loss: 2.3627 - 15ms/epoch - 2ms/step\n",
            "Epoch 33/100\n",
            "8/8 - 0s - loss: 2.2920 - 14ms/epoch - 2ms/step\n",
            "Epoch 34/100\n",
            "8/8 - 0s - loss: 2.2231 - 15ms/epoch - 2ms/step\n",
            "Epoch 35/100\n",
            "8/8 - 0s - loss: 2.1608 - 21ms/epoch - 3ms/step\n",
            "Epoch 36/100\n",
            "8/8 - 0s - loss: 2.1118 - 17ms/epoch - 2ms/step\n",
            "Epoch 37/100\n",
            "8/8 - 0s - loss: 2.0609 - 15ms/epoch - 2ms/step\n",
            "Epoch 38/100\n",
            "8/8 - 0s - loss: 2.0165 - 14ms/epoch - 2ms/step\n",
            "Epoch 39/100\n",
            "8/8 - 0s - loss: 1.9776 - 14ms/epoch - 2ms/step\n",
            "Epoch 40/100\n",
            "8/8 - 0s - loss: 1.9429 - 17ms/epoch - 2ms/step\n",
            "Epoch 41/100\n",
            "8/8 - 0s - loss: 1.9116 - 18ms/epoch - 2ms/step\n",
            "Epoch 42/100\n",
            "8/8 - 0s - loss: 1.8826 - 17ms/epoch - 2ms/step\n",
            "Epoch 43/100\n",
            "8/8 - 0s - loss: 1.8553 - 18ms/epoch - 2ms/step\n",
            "Epoch 44/100\n",
            "8/8 - 0s - loss: 1.8366 - 15ms/epoch - 2ms/step\n",
            "Epoch 45/100\n",
            "8/8 - 0s - loss: 1.8130 - 16ms/epoch - 2ms/step\n",
            "Epoch 46/100\n",
            "8/8 - 0s - loss: 1.7944 - 17ms/epoch - 2ms/step\n",
            "Epoch 47/100\n",
            "8/8 - 0s - loss: 1.7794 - 26ms/epoch - 3ms/step\n",
            "Epoch 48/100\n",
            "8/8 - 0s - loss: 1.7649 - 16ms/epoch - 2ms/step\n",
            "Epoch 49/100\n",
            "8/8 - 0s - loss: 1.7525 - 16ms/epoch - 2ms/step\n",
            "Epoch 50/100\n",
            "8/8 - 0s - loss: 1.7411 - 14ms/epoch - 2ms/step\n",
            "Epoch 51/100\n",
            "8/8 - 0s - loss: 1.7283 - 18ms/epoch - 2ms/step\n",
            "Epoch 52/100\n",
            "8/8 - 0s - loss: 1.7226 - 14ms/epoch - 2ms/step\n",
            "Epoch 53/100\n",
            "8/8 - 0s - loss: 1.7109 - 15ms/epoch - 2ms/step\n",
            "Epoch 54/100\n",
            "8/8 - 0s - loss: 1.7018 - 15ms/epoch - 2ms/step\n",
            "Epoch 55/100\n",
            "8/8 - 0s - loss: 1.6965 - 14ms/epoch - 2ms/step\n",
            "Epoch 56/100\n",
            "8/8 - 0s - loss: 1.6922 - 15ms/epoch - 2ms/step\n",
            "Epoch 57/100\n",
            "8/8 - 0s - loss: 1.6859 - 14ms/epoch - 2ms/step\n",
            "Epoch 58/100\n",
            "8/8 - 0s - loss: 1.6792 - 16ms/epoch - 2ms/step\n",
            "Epoch 59/100\n",
            "8/8 - 0s - loss: 1.6749 - 14ms/epoch - 2ms/step\n",
            "Epoch 60/100\n",
            "8/8 - 0s - loss: 1.6703 - 15ms/epoch - 2ms/step\n",
            "Epoch 61/100\n",
            "8/8 - 0s - loss: 1.6669 - 15ms/epoch - 2ms/step\n",
            "Epoch 62/100\n",
            "8/8 - 0s - loss: 1.6635 - 14ms/epoch - 2ms/step\n",
            "Epoch 63/100\n",
            "8/8 - 0s - loss: 1.6589 - 15ms/epoch - 2ms/step\n",
            "Epoch 64/100\n",
            "8/8 - 0s - loss: 1.6565 - 14ms/epoch - 2ms/step\n",
            "Epoch 65/100\n",
            "8/8 - 0s - loss: 1.6527 - 14ms/epoch - 2ms/step\n",
            "Epoch 66/100\n",
            "8/8 - 0s - loss: 1.6498 - 14ms/epoch - 2ms/step\n",
            "Epoch 67/100\n",
            "8/8 - 0s - loss: 1.6470 - 20ms/epoch - 2ms/step\n",
            "Epoch 68/100\n",
            "8/8 - 0s - loss: 1.6480 - 24ms/epoch - 3ms/step\n",
            "Epoch 69/100\n",
            "8/8 - 0s - loss: 1.6416 - 14ms/epoch - 2ms/step\n",
            "Epoch 70/100\n",
            "8/8 - 0s - loss: 1.6395 - 14ms/epoch - 2ms/step\n",
            "Epoch 71/100\n",
            "8/8 - 0s - loss: 1.6370 - 14ms/epoch - 2ms/step\n",
            "Epoch 72/100\n",
            "8/8 - 0s - loss: 1.6345 - 14ms/epoch - 2ms/step\n",
            "Epoch 73/100\n",
            "8/8 - 0s - loss: 1.6319 - 13ms/epoch - 2ms/step\n",
            "Epoch 74/100\n",
            "8/8 - 0s - loss: 1.6312 - 15ms/epoch - 2ms/step\n",
            "Epoch 75/100\n",
            "8/8 - 0s - loss: 1.6272 - 16ms/epoch - 2ms/step\n",
            "Epoch 76/100\n",
            "8/8 - 0s - loss: 1.6253 - 18ms/epoch - 2ms/step\n",
            "Epoch 77/100\n",
            "8/8 - 0s - loss: 1.6238 - 15ms/epoch - 2ms/step\n",
            "Epoch 78/100\n",
            "8/8 - 0s - loss: 1.6216 - 14ms/epoch - 2ms/step\n",
            "Epoch 79/100\n",
            "8/8 - 0s - loss: 1.6200 - 12ms/epoch - 1ms/step\n",
            "Epoch 80/100\n",
            "8/8 - 0s - loss: 1.6169 - 13ms/epoch - 2ms/step\n",
            "Epoch 81/100\n",
            "8/8 - 0s - loss: 1.6153 - 15ms/epoch - 2ms/step\n",
            "Epoch 82/100\n",
            "8/8 - 0s - loss: 1.6135 - 14ms/epoch - 2ms/step\n",
            "Epoch 83/100\n",
            "8/8 - 0s - loss: 1.6110 - 17ms/epoch - 2ms/step\n",
            "Epoch 84/100\n",
            "8/8 - 0s - loss: 1.6097 - 15ms/epoch - 2ms/step\n",
            "Epoch 85/100\n",
            "8/8 - 0s - loss: 1.6075 - 15ms/epoch - 2ms/step\n",
            "Epoch 86/100\n",
            "8/8 - 0s - loss: 1.6055 - 13ms/epoch - 2ms/step\n",
            "Epoch 87/100\n",
            "8/8 - 0s - loss: 1.6038 - 24ms/epoch - 3ms/step\n",
            "Epoch 88/100\n",
            "8/8 - 0s - loss: 1.6025 - 18ms/epoch - 2ms/step\n",
            "Epoch 89/100\n",
            "8/8 - 0s - loss: 1.6018 - 16ms/epoch - 2ms/step\n",
            "Epoch 90/100\n",
            "8/8 - 0s - loss: 1.5979 - 13ms/epoch - 2ms/step\n",
            "Epoch 91/100\n",
            "8/8 - 0s - loss: 1.5971 - 16ms/epoch - 2ms/step\n",
            "Epoch 92/100\n",
            "8/8 - 0s - loss: 1.5948 - 14ms/epoch - 2ms/step\n",
            "Epoch 93/100\n",
            "8/8 - 0s - loss: 1.5927 - 14ms/epoch - 2ms/step\n",
            "Epoch 94/100\n",
            "8/8 - 0s - loss: 1.5924 - 14ms/epoch - 2ms/step\n",
            "Epoch 95/100\n",
            "8/8 - 0s - loss: 1.5891 - 14ms/epoch - 2ms/step\n",
            "Epoch 96/100\n",
            "8/8 - 0s - loss: 1.5872 - 15ms/epoch - 2ms/step\n",
            "Epoch 97/100\n",
            "8/8 - 0s - loss: 1.5912 - 13ms/epoch - 2ms/step\n",
            "Epoch 98/100\n",
            "8/8 - 0s - loss: 1.5848 - 13ms/epoch - 2ms/step\n",
            "Epoch 99/100\n",
            "8/8 - 0s - loss: 1.5842 - 13ms/epoch - 2ms/step\n",
            "Epoch 100/100\n",
            "8/8 - 0s - loss: 1.5817 - 21ms/epoch - 3ms/step\n"
          ]
        },
        {
          "output_type": "execute_result",
          "data": {
            "text/plain": [
              "<keras.callbacks.History at 0x7fb0812034f0>"
            ]
          },
          "metadata": {},
          "execution_count": 10
        }
      ],
      "source": [
        "# Convert to numpy - Classification\n",
        "x = df_cost[['sepal_l', 'sepal_w', 'petal_l', 'petal_w']].values\n",
        "y = df_cost.cost.values\n",
        "\n",
        "# Train the last layer of the network\n",
        "model3.fit(x,y,verbose=2,epochs=100)"
      ]
    },
    {
      "cell_type": "markdown",
      "metadata": {
        "id": "DAXFzJIQu-GY"
      },
      "source": [
        "We can evaluate the in-sample RMSE for the new model containing transferred layers from the previous model."
      ]
    },
    {
      "cell_type": "code",
      "execution_count": 11,
      "metadata": {
        "colab": {
          "base_uri": "https://localhost:8080/"
        },
        "id": "4XU98v2Du-GY",
        "outputId": "266ff69d-58d4-4c11-c091-ff73638e2fec"
      },
      "outputs": [
        {
          "output_type": "stream",
          "name": "stdout",
          "text": [
            "8/8 [==============================] - 0s 2ms/step\n",
            "Final score (RMSE): 1.256737947195635\n"
          ]
        }
      ],
      "source": [
        "from sklearn.metrics import accuracy_score\n",
        "pred = model3.predict(x)\n",
        "score = np.sqrt(metrics.mean_squared_error(pred,y))\n",
        "print(f\"Final score (RMSE): {score}\")"
      ]
    },
    {
      "cell_type": "code",
      "execution_count": 11,
      "metadata": {
        "id": "z5u3j5G4u-GY"
      },
      "outputs": [],
      "source": []
    }
  ],
  "metadata": {
    "anaconda-cloud": {},
    "colab": {
      "name": "new_t81_558_class_09_1_keras_transfer.ipynb",
      "provenance": []
    },
    "kernelspec": {
      "display_name": "Python 3.9 (tensorflow)",
      "language": "python",
      "name": "tensorflow"
    },
    "language_info": {
      "codemirror_mode": {
        "name": "ipython",
        "version": 3
      },
      "file_extension": ".py",
      "mimetype": "text/x-python",
      "name": "python",
      "nbconvert_exporter": "python",
      "pygments_lexer": "ipython3",
      "version": "3.9.7"
    }
  },
  "nbformat": 4,
  "nbformat_minor": 0
}