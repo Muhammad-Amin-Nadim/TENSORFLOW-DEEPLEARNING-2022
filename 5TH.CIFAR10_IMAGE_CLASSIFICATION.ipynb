{
  "cells": [
    {
      "cell_type": "markdown",
      "id": "ac40a307",
      "metadata": {
        "id": "ac40a307"
      },
      "source": [
        "# Image Classification Project\n",
        "\n",
        "Dataset we'll use:\n",
        "\n",
        "[CIFAR 10 DATASET](http://www.cs.toronto.edu/~kriz/cifar.html#:~:text=The%20CIFAR%2D10%20dataset,batch%2C%20each%20with%2010000%20images.)\n",
        "\n",
        "The CIFAR-10 dataset consists of 60000 32x32 colour images in 10 classes, with 6000 images per class. There are 50000 training images and 10000 test images."
      ]
    },
    {
      "cell_type": "markdown",
      "id": "0d5e1626",
      "metadata": {
        "id": "0d5e1626"
      },
      "source": [
        "## Import Libraries"
      ]
    },
    {
      "cell_type": "code",
      "execution_count": 1,
      "id": "b39e92fb",
      "metadata": {
        "id": "b39e92fb"
      },
      "outputs": [],
      "source": [
        "from tensorflow.keras import Sequential, datasets\n",
        "from tensorflow.keras.layers import Dense, Flatten, Conv2D, MaxPooling2D\n",
        "import numpy as np\n",
        "from matplotlib import pyplot as plt\n",
        "import os"
      ]
    },
    {
      "cell_type": "code",
      "execution_count": 2,
      "id": "6ad90d23",
      "metadata": {
        "id": "6ad90d23"
      },
      "outputs": [],
      "source": [
        "os.environ['TF_XLA_FLAGS'] = '--tf_xla_enable_xla_devices'"
      ]
    },
    {
      "cell_type": "markdown",
      "id": "94683b1b",
      "metadata": {
        "id": "94683b1b"
      },
      "source": [
        "## Load Dataset"
      ]
    },
    {
      "cell_type": "code",
      "execution_count": 3,
      "id": "645eb33a",
      "metadata": {
        "colab": {
          "base_uri": "https://localhost:8080/"
        },
        "id": "645eb33a",
        "outputId": "1576f7ed-bbd3-4e44-e276-5618112bffaa"
      },
      "outputs": [
        {
          "output_type": "stream",
          "name": "stdout",
          "text": [
            "Downloading data from https://www.cs.toronto.edu/~kriz/cifar-10-python.tar.gz\n",
            "170498071/170498071 [==============================] - 2s 0us/step\n"
          ]
        }
      ],
      "source": [
        "(X_train, y_train), (X_test, y_test) = datasets.cifar10.load_data()"
      ]
    },
    {
      "cell_type": "code",
      "execution_count": 4,
      "id": "a50b217b",
      "metadata": {
        "colab": {
          "base_uri": "https://localhost:8080/"
        },
        "id": "a50b217b",
        "outputId": "9a8b9317-25df-47b5-804e-acd9968c040b"
      },
      "outputs": [
        {
          "output_type": "execute_result",
          "data": {
            "text/plain": [
              "(50000, 32, 32, 3)"
            ]
          },
          "metadata": {},
          "execution_count": 4
        }
      ],
      "source": [
        "X_train.shape"
      ]
    },
    {
      "cell_type": "code",
      "execution_count": 5,
      "id": "f839be52",
      "metadata": {
        "colab": {
          "base_uri": "https://localhost:8080/"
        },
        "id": "f839be52",
        "outputId": "ee8ba351-6ac3-4a1e-a331-27b6c7086de7"
      },
      "outputs": [
        {
          "output_type": "execute_result",
          "data": {
            "text/plain": [
              "(10000, 32, 32, 3)"
            ]
          },
          "metadata": {},
          "execution_count": 5
        }
      ],
      "source": [
        "X_test.shape"
      ]
    },
    {
      "cell_type": "markdown",
      "id": "7bde577d",
      "metadata": {
        "id": "7bde577d"
      },
      "source": [
        "### Reshape y samples"
      ]
    },
    {
      "cell_type": "code",
      "execution_count": 6,
      "id": "df1f66ba",
      "metadata": {
        "colab": {
          "base_uri": "https://localhost:8080/"
        },
        "id": "df1f66ba",
        "outputId": "129d8020-c53b-46fe-851d-620b0d350857"
      },
      "outputs": [
        {
          "output_type": "execute_result",
          "data": {
            "text/plain": [
              "array([6, 9, 9, ..., 9, 1, 1], dtype=uint8)"
            ]
          },
          "metadata": {},
          "execution_count": 6
        }
      ],
      "source": [
        "y_train = y_train.reshape(-1,)\n",
        "y_train"
      ]
    },
    {
      "cell_type": "code",
      "execution_count": 7,
      "id": "14c0e854",
      "metadata": {
        "id": "14c0e854"
      },
      "outputs": [],
      "source": [
        "y_classes = [\"airplane\", \"automobile\", \"bird\", \"cat\", \"deer\", \"dog\", \"frog\", \"horse\", \"ship\", \"truck\"]"
      ]
    },
    {
      "cell_type": "code",
      "execution_count": 8,
      "id": "00068f34",
      "metadata": {
        "id": "00068f34"
      },
      "outputs": [],
      "source": [
        "def showImage(X, y, index):\n",
        "    plt.figure(figsize=(15, 2))\n",
        "    plt.imshow(X[index])\n",
        "    plt.xlabel(y_classes[y[index]])"
      ]
    },
    {
      "cell_type": "code",
      "execution_count": 9,
      "id": "2db3e8dd",
      "metadata": {
        "colab": {
          "base_uri": "https://localhost:8080/",
          "height": 173
        },
        "id": "2db3e8dd",
        "outputId": "4f003dbe-7029-4c87-d1e6-f87690f64558"
      },
      "outputs": [
        {
          "output_type": "display_data",
          "data": {
            "text/plain": [
              "<Figure size 1080x144 with 1 Axes>"
            ],
            "image/png": "[encoded data removed]"
          },
          "metadata": {
            "needs_background": "light"
          }
        }
      ],
      "source": [
        "showImage(X_train, y_train, 5)"
      ]
    },
    {
      "cell_type": "code",
      "execution_count": 10,
      "id": "1da6e1a5",
      "metadata": {
        "colab": {
          "base_uri": "https://localhost:8080/",
          "height": 173
        },
        "id": "1da6e1a5",
        "outputId": "3f2be0e2-39ce-4e37-f517-569e28ab4e86"
      },
      "outputs": [
        {
          "output_type": "display_data",
          "data": {
            "text/plain": [
              "<Figure size 1080x144 with 1 Axes>"
            ],
            "image/png": "[encoded data removed]"
          },
          "metadata": {
            "needs_background": "light"
          }
        }
      ],
      "source": [
        "showImage(X_train, y_train, 7)"
      ]
    },
    {
      "cell_type": "code",
      "execution_count": 11,
      "id": "d7af3d89",
      "metadata": {
        "colab": {
          "base_uri": "https://localhost:8080/"
        },
        "id": "d7af3d89",
        "outputId": "27931774-67ee-41ec-faaa-dbcba86b0924"
      },
      "outputs": [
        {
          "output_type": "execute_result",
          "data": {
            "text/plain": [
              "array([[[ 59,  62,  63],\n",
              "        [ 43,  46,  45],\n",
              "        [ 50,  48,  43],\n",
              "        ...,\n",
              "        [158, 132, 108],\n",
              "        [152, 125, 102],\n",
              "        [148, 124, 103]],\n",
              "\n",
              "       [[ 16,  20,  20],\n",
              "        [  0,   0,   0],\n",
              "        [ 18,   8,   0],\n",
              "        ...,\n",
              "        [123,  88,  55],\n",
              "        [119,  83,  50],\n",
              "        [122,  87,  57]],\n",
              "\n",
              "       [[ 25,  24,  21],\n",
              "        [ 16,   7,   0],\n",
              "        [ 49,  27,   8],\n",
              "        ...,\n",
              "        [118,  84,  50],\n",
              "        [120,  84,  50],\n",
              "        [109,  73,  42]],\n",
              "\n",
              "       ...,\n",
              "\n",
              "       [[208, 170,  96],\n",
              "        [201, 153,  34],\n",
              "        [198, 161,  26],\n",
              "        ...,\n",
              "        [160, 133,  70],\n",
              "        [ 56,  31,   7],\n",
              "        [ 53,  34,  20]],\n",
              "\n",
              "       [[180, 139,  96],\n",
              "        [173, 123,  42],\n",
              "        [186, 144,  30],\n",
              "        ...,\n",
              "        [184, 148,  94],\n",
              "        [ 97,  62,  34],\n",
              "        [ 83,  53,  34]],\n",
              "\n",
              "       [[177, 144, 116],\n",
              "        [168, 129,  94],\n",
              "        [179, 142,  87],\n",
              "        ...,\n",
              "        [216, 184, 140],\n",
              "        [151, 118,  84],\n",
              "        [123,  92,  72]]], dtype=uint8)"
            ]
          },
          "metadata": {},
          "execution_count": 11
        }
      ],
      "source": [
        "X_train[0]"
      ]
    },
    {
      "cell_type": "markdown",
      "id": "38c07d8c",
      "metadata": {
        "id": "38c07d8c"
      },
      "source": [
        "## Normalize Dataset"
      ]
    },
    {
      "cell_type": "code",
      "execution_count": 12,
      "id": "57648581",
      "metadata": {
        "id": "57648581"
      },
      "outputs": [],
      "source": [
        "X_train = X_train/255\n",
        "X_test = X_test/255"
      ]
    },
    {
      "cell_type": "code",
      "execution_count": 13,
      "id": "32380f97",
      "metadata": {
        "colab": {
          "base_uri": "https://localhost:8080/"
        },
        "id": "32380f97",
        "outputId": "af1c98b2-abec-4c78-cf57-488bc65c16ff"
      },
      "outputs": [
        {
          "output_type": "execute_result",
          "data": {
            "text/plain": [
              "array([[[0.23137255, 0.24313725, 0.24705882],\n",
              "        [0.16862745, 0.18039216, 0.17647059],\n",
              "        [0.19607843, 0.18823529, 0.16862745],\n",
              "        ...,\n",
              "        [0.61960784, 0.51764706, 0.42352941],\n",
              "        [0.59607843, 0.49019608, 0.4       ],\n",
              "        [0.58039216, 0.48627451, 0.40392157]],\n",
              "\n",
              "       [[0.0627451 , 0.07843137, 0.07843137],\n",
              "        [0.        , 0.        , 0.        ],\n",
              "        [0.07058824, 0.03137255, 0.        ],\n",
              "        ...,\n",
              "        [0.48235294, 0.34509804, 0.21568627],\n",
              "        [0.46666667, 0.3254902 , 0.19607843],\n",
              "        [0.47843137, 0.34117647, 0.22352941]],\n",
              "\n",
              "       [[0.09803922, 0.09411765, 0.08235294],\n",
              "        [0.0627451 , 0.02745098, 0.        ],\n",
              "        [0.19215686, 0.10588235, 0.03137255],\n",
              "        ...,\n",
              "        [0.4627451 , 0.32941176, 0.19607843],\n",
              "        [0.47058824, 0.32941176, 0.19607843],\n",
              "        [0.42745098, 0.28627451, 0.16470588]],\n",
              "\n",
              "       ...,\n",
              "\n",
              "       [[0.81568627, 0.66666667, 0.37647059],\n",
              "        [0.78823529, 0.6       , 0.13333333],\n",
              "        [0.77647059, 0.63137255, 0.10196078],\n",
              "        ...,\n",
              "        [0.62745098, 0.52156863, 0.2745098 ],\n",
              "        [0.21960784, 0.12156863, 0.02745098],\n",
              "        [0.20784314, 0.13333333, 0.07843137]],\n",
              "\n",
              "       [[0.70588235, 0.54509804, 0.37647059],\n",
              "        [0.67843137, 0.48235294, 0.16470588],\n",
              "        [0.72941176, 0.56470588, 0.11764706],\n",
              "        ...,\n",
              "        [0.72156863, 0.58039216, 0.36862745],\n",
              "        [0.38039216, 0.24313725, 0.13333333],\n",
              "        [0.3254902 , 0.20784314, 0.13333333]],\n",
              "\n",
              "       [[0.69411765, 0.56470588, 0.45490196],\n",
              "        [0.65882353, 0.50588235, 0.36862745],\n",
              "        [0.70196078, 0.55686275, 0.34117647],\n",
              "        ...,\n",
              "        [0.84705882, 0.72156863, 0.54901961],\n",
              "        [0.59215686, 0.4627451 , 0.32941176],\n",
              "        [0.48235294, 0.36078431, 0.28235294]]])"
            ]
          },
          "metadata": {},
          "execution_count": 13
        }
      ],
      "source": [
        "X_train[0]"
      ]
    },
    {
      "cell_type": "markdown",
      "id": "2d7a20d6",
      "metadata": {
        "id": "2d7a20d6"
      },
      "source": [
        "## Build Model"
      ]
    },
    {
      "cell_type": "code",
      "execution_count": 14,
      "id": "8b89e5c1",
      "metadata": {
        "id": "8b89e5c1"
      },
      "outputs": [],
      "source": [
        "model = Sequential()\n",
        "\n",
        "model.add(Conv2D(filters = 32, kernel_size=(3, 3), activation=\"relu\", input_shape=(32, 32, 3)))\n",
        "model.add(MaxPooling2D(pool_size=(2, 2)))\n",
        "\n",
        "model.add(Conv2D(filters=64, kernel_size=(4, 4), activation=\"relu\"))\n",
        "model.add(MaxPooling2D(pool_size=(2, 2)))\n",
        "\n",
        "model.add(Flatten())\n",
        "model.add(Dense(units = 34, activation=\"relu\"))\n",
        "model.add(Dense(units=10, activation=\"softmax\"))"
      ]
    },
    {
      "cell_type": "code",
      "execution_count": 15,
      "id": "5a2f19cb",
      "metadata": {
        "id": "5a2f19cb"
      },
      "outputs": [],
      "source": [
        "model.compile(\n",
        "    optimizer=\"adam\",\n",
        "    loss=\"sparse_categorical_crossentropy\",\n",
        "    metrics=[\"accuracy\"]\n",
        ")"
      ]
    },
    {
      "cell_type": "code",
      "execution_count": 16,
      "id": "55db6969",
      "metadata": {
        "colab": {
          "base_uri": "https://localhost:8080/"
        },
        "id": "55db6969",
        "outputId": "f856de1e-6c70-4476-9bb0-0c5610e4c01f"
      },
      "outputs": [
        {
          "output_type": "stream",
          "name": "stdout",
          "text": [
            "Epoch 1/5\n",
            "1563/1563 [==============================] - 99s 62ms/step - loss: 1.4701 - accuracy: 0.4690 - val_loss: 1.2275 - val_accuracy: 0.5704\n",
            "Epoch 2/5\n",
            "1563/1563 [==============================] - 90s 58ms/step - loss: 1.1057 - accuracy: 0.6142 - val_loss: 1.0623 - val_accuracy: 0.6361\n",
            "Epoch 3/5\n",
            "1563/1563 [==============================] - 89s 57ms/step - loss: 0.9769 - accuracy: 0.6615 - val_loss: 1.0037 - val_accuracy: 0.6467\n",
            "Epoch 4/5\n",
            "1563/1563 [==============================] - 90s 57ms/step - loss: 0.9040 - accuracy: 0.6868 - val_loss: 0.9664 - val_accuracy: 0.6644\n",
            "Epoch 5/5\n",
            "1563/1563 [==============================] - 90s 57ms/step - loss: 0.8461 - accuracy: 0.7065 - val_loss: 0.9126 - val_accuracy: 0.6861\n"
          ]
        },
        {
          "output_type": "execute_result",
          "data": {
            "text/plain": [
              "<keras.callbacks.History at 0x7f409bb67640>"
            ]
          },
          "metadata": {},
          "execution_count": 16
        }
      ],
      "source": [
        "model.fit(X_train, y_train, validation_data = (X_test, y_test), epochs = 5)"
      ]
    },
    {
      "cell_type": "markdown",
      "id": "cd022bba",
      "metadata": {
        "id": "cd022bba"
      },
      "source": [
        "## Make Predictions"
      ]
    },
    {
      "cell_type": "code",
      "execution_count": 17,
      "id": "83a78b96",
      "metadata": {
        "id": "83a78b96"
      },
      "outputs": [],
      "source": [
        "y_test = y_test.reshape(-1,)"
      ]
    },
    {
      "cell_type": "code",
      "execution_count": 18,
      "id": "2448d5d2",
      "metadata": {
        "colab": {
          "base_uri": "https://localhost:8080/",
          "height": 173
        },
        "id": "2448d5d2",
        "outputId": "ad752439-563b-4f58-e4c1-75799c59f89f"
      },
      "outputs": [
        {
          "output_type": "display_data",
          "data": {
            "text/plain": [
              "<Figure size 1080x144 with 1 Axes>"
            ],
            "image/png": "[encoded data removed]"
          },
          "metadata": {
            "needs_background": "light"
          }
        }
      ],
      "source": [
        "showImage(X_test, y_test, 9)"
      ]
    },
    {
      "cell_type": "code",
      "execution_count": 19,
      "id": "eb06a1e5",
      "metadata": {
        "colab": {
          "base_uri": "https://localhost:8080/"
        },
        "id": "eb06a1e5",
        "outputId": "f3a693df-1fda-4077-a715-69e846c6b8a9"
      },
      "outputs": [
        {
          "output_type": "stream",
          "name": "stdout",
          "text": [
            "313/313 [==============================] - 5s 16ms/step\n"
          ]
        }
      ],
      "source": [
        "y_predictions = model.predict(X_test)"
      ]
    },
    {
      "cell_type": "code",
      "execution_count": 20,
      "id": "3fff5f24",
      "metadata": {
        "colab": {
          "base_uri": "https://localhost:8080/"
        },
        "id": "3fff5f24",
        "outputId": "6fde666c-523e-45cd-a1e0-72cea32b83ef"
      },
      "outputs": [
        {
          "output_type": "execute_result",
          "data": {
            "text/plain": [
              "array([1.1044064e-03, 9.6736753e-01, 1.5438878e-04, 1.4205690e-04,\n",
              "       4.9896968e-05, 7.8831217e-05, 1.8298295e-03, 9.4365032e-06,\n",
              "       2.0941318e-04, 2.9054075e-02], dtype=float32)"
            ]
          },
          "metadata": {},
          "execution_count": 20
        }
      ],
      "source": [
        "y_predictions[9]"
      ]
    },
    {
      "cell_type": "code",
      "execution_count": 21,
      "id": "1d60ceb7",
      "metadata": {
        "id": "1d60ceb7"
      },
      "outputs": [],
      "source": [
        "y_predictions = [np.argmax(arr) for arr in y_predictions]"
      ]
    },
    {
      "cell_type": "code",
      "execution_count": 22,
      "id": "3ff52fb8",
      "metadata": {
        "colab": {
          "base_uri": "https://localhost:8080/",
          "height": 35
        },
        "id": "3ff52fb8",
        "outputId": "b177879a-f998-4e26-cee5-73ce7d437599"
      },
      "outputs": [
        {
          "output_type": "execute_result",
          "data": {
            "text/plain": [
              "'automobile'"
            ],
            "application/vnd.google.colaboratory.intrinsic+json": {
              "type": "string"
            }
          },
          "metadata": {},
          "execution_count": 22
        }
      ],
      "source": [
        "y_classes[y_predictions[9]]"
      ]
    },
    {
      "cell_type": "markdown",
      "id": "8b1b8ff9",
      "metadata": {
        "id": "8b1b8ff9"
      },
      "source": [
        "## Model Evaluations"
      ]
    },
    {
      "cell_type": "code",
      "execution_count": 23,
      "id": "5588bd26",
      "metadata": {
        "id": "5588bd26"
      },
      "outputs": [],
      "source": [
        "from sklearn.metrics import classification_report"
      ]
    },
    {
      "cell_type": "code",
      "execution_count": 24,
      "id": "c7dff185",
      "metadata": {
        "colab": {
          "base_uri": "https://localhost:8080/"
        },
        "id": "c7dff185",
        "outputId": "e0068b67-af27-4533-a3ef-5c14b3ea7b7d"
      },
      "outputs": [
        {
          "output_type": "stream",
          "name": "stdout",
          "text": [
            "              precision    recall  f1-score   support\n",
            "\n",
            "           0       0.75      0.70      0.73      1000\n",
            "           1       0.83      0.78      0.81      1000\n",
            "           2       0.60      0.55      0.58      1000\n",
            "           3       0.51      0.51      0.51      1000\n",
            "           4       0.58      0.71      0.64      1000\n",
            "           5       0.59      0.57      0.58      1000\n",
            "           6       0.74      0.77      0.76      1000\n",
            "           7       0.80      0.66      0.72      1000\n",
            "           8       0.83      0.76      0.79      1000\n",
            "           9       0.69      0.84      0.76      1000\n",
            "\n",
            "    accuracy                           0.69     10000\n",
            "   macro avg       0.69      0.69      0.69     10000\n",
            "weighted avg       0.69      0.69      0.69     10000\n",
            "\n"
          ]
        }
      ],
      "source": [
        "print(classification_report(y_test, y_predictions))"
      ]
    },
    {
      "cell_type": "code",
      "execution_count": 25,
      "id": "52c827ec",
      "metadata": {
        "id": "52c827ec"
      },
      "outputs": [],
      "source": [
        "from sklearn.metrics import confusion_matrix"
      ]
    },
    {
      "cell_type": "code",
      "execution_count": 26,
      "id": "7650df1e",
      "metadata": {
        "id": "7650df1e"
      },
      "outputs": [],
      "source": [
        "cm = confusion_matrix(y_test, y_predictions)"
      ]
    },
    {
      "cell_type": "code",
      "execution_count": 27,
      "id": "22bb0450",
      "metadata": {
        "colab": {
          "base_uri": "https://localhost:8080/"
        },
        "id": "22bb0450",
        "outputId": "37280e93-4599-4997-8302-9ebf017183fe"
      },
      "outputs": [
        {
          "output_type": "execute_result",
          "data": {
            "text/plain": [
              "array([[704,  17,  63,  21,  34,  15,  12,   6,  56,  72],\n",
              "       [ 12, 784,   8,   7,   5,   4,   8,   1,  21, 150],\n",
              "       [ 55,   9, 553,  67, 136,  68,  65,  22,  10,  15],\n",
              "       [ 11,  11,  71, 509,  96, 162,  74,  28,  11,  27],\n",
              "       [ 17,   2,  55,  65, 713,  34,  46,  52,  12,   4],\n",
              "       [ 14,   6,  60, 185,  70, 571,  25,  41,  12,  16],\n",
              "       [  4,   6,  37,  67,  71,  18, 774,   5,   5,  13],\n",
              "       [ 22,   3,  49,  48, 100,  73,  11, 661,   3,  30],\n",
              "       [ 79,  45,  17,  17,   9,  18,  13,   2, 756,  44],\n",
              "       [ 22,  57,  10,  15,   5,  10,  12,  11,  22, 836]])"
            ]
          },
          "metadata": {},
          "execution_count": 27
        }
      ],
      "source": [
        "cm"
      ]
    },
    {
      "cell_type": "code",
      "execution_count": 28,
      "id": "c5a04bd3",
      "metadata": {
        "id": "c5a04bd3"
      },
      "outputs": [],
      "source": [
        "import seaborn as sns\n",
        "import matplotlib.pyplot as plt"
      ]
    },
    {
      "cell_type": "code",
      "execution_count": 29,
      "id": "ae0fcd53",
      "metadata": {
        "colab": {
          "base_uri": "https://localhost:8080/",
          "height": 458
        },
        "id": "ae0fcd53",
        "outputId": "57d3d5e1-972e-4dab-c3a3-59409734c55f"
      },
      "outputs": [
        {
          "output_type": "display_data",
          "data": {
            "text/plain": [
              "<Figure size 1008x504 with 2 Axes>"
            ],
            "image/png": "[encoded data removed]"
          },
          "metadata": {
            "needs_background": "light"
          }
        }
      ],
      "source": [
        "plt.figure(figsize=(14, 7))\n",
        "sns.heatmap(cm, annot=True)\n",
        "plt.ylabel(\"Truth\")\n",
        "plt.xlabel(\"Predictions From Model\")\n",
        "plt.title(\"Confusion matrix\")\n",
        "plt.show()"
      ]
    },
    {
      "cell_type": "code",
      "execution_count": 29,
      "id": "79331066",
      "metadata": {
        "id": "79331066"
      },
      "outputs": [],
      "source": []
    }
  ],
  "metadata": {
    "kernelspec": {
      "display_name": "Python 3 (ipykernel)",
      "language": "python",
      "name": "python3"
    },
    "language_info": {
      "codemirror_mode": {
        "name": "ipython",
        "version": 3
      },
      "file_extension": ".py",
      "mimetype": "text/x-python",
      "name": "python",
      "nbconvert_exporter": "python",
      "pygments_lexer": "ipython3",
      "version": "3.9.12"
    },
    "colab": {
      "provenance": []
    }
  },
  "nbformat": 4,
  "nbformat_minor": 5
}