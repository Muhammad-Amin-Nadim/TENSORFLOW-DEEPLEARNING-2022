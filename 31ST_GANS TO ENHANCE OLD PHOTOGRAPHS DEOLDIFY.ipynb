{
  "cells": [
    {
      "cell_type": "markdown",
      "metadata": {
        "id": "sZbuQeUcMoZI"
      },
      "source": [
        "# Applications of Deep Neural Networks\n",
        "**Module 7: Generative Adversarial Networks**\n"
      ]
    },
    {
      "cell_type": "markdown",
      "metadata": {
        "id": "rUNJ5dwcMoZJ"
      },
      "source": [
        "# Part 7.4: GANS to Enhance Old Photographs Deoldify\n",
        "\n",
        "For the last two parts of this module, we will examine two applications of GANs. The first application is named [deoldify](https://deoldify.ai/), which uses a PyTorche-based GAN to transform old photographs into more modern-looking images. The complete [source code](https://github.com/jantic/DeOldify) to Deoldify is provided, along with several examples [notebooks](https://colab.research.google.com/github/jantic/DeOldify/blob/master/ImageColorizerColab.ipynb) upon which I based this part. \n",
        "\n",
        "## Install Needed Software\n",
        "\n",
        "We begin by cloning the deoldify repository."
      ]
    },
    {
      "cell_type": "code",
      "execution_count": 1,
      "metadata": {
        "colab": {
          "base_uri": "https://localhost:8080/"
        },
        "id": "of8TRxeDMoZK",
        "outputId": "c3a293fa-b16a-487e-fe20-f236ede7dd19"
      },
      "outputs": [
        {
          "output_type": "stream",
          "name": "stdout",
          "text": [
            "Cloning into 'DeOldify'...\n",
            "remote: Enumerating objects: 2567, done.\u001b[K\n",
            "remote: Counting objects: 100% (222/222), done.\u001b[K\n",
            "remote: Compressing objects: 100% (161/161), done.\u001b[K\n",
            "remote: Total 2567 (delta 62), reused 184 (delta 55), pack-reused 2345\u001b[K\n",
            "Receiving objects: 100% (2567/2567), 69.70 MiB | 5.23 MiB/s, done.\n",
            "Resolving deltas: 100% (1145/1145), done.\n",
            "/content/DeOldify\n"
          ]
        }
      ],
      "source": [
        "# HIDE OUTPUT\n",
        "!git clone https://github.com/jantic/DeOldify.git DeOldify\n",
        "%cd DeOldify "
      ]
    },
    {
      "cell_type": "markdown",
      "metadata": {
        "id": "_i9I3dYkWy6u"
      },
      "source": [
        "Install any additional Python packages needed."
      ]
    },
    {
      "cell_type": "code",
      "execution_count": 2,
      "metadata": {
        "colab": {
          "base_uri": "https://localhost:8080/"
        },
        "id": "qQP1eLYsPf1s",
        "outputId": "f1ba9fe9-10bf-4d65-ba80-ee1c240c384b"
      },
      "outputs": [
        {
          "output_type": "stream",
          "name": "stdout",
          "text": [
            "\u001b[31mERROR: Could not open requirements file: [Errno 2] No such file or directory: 'colab_requirements.txt'\u001b[0m\u001b[31m\n",
            "\u001b[0m"
          ]
        }
      ],
      "source": [
        "# HIDE OUTPUT\n",
        "!pip install -r colab_requirements.txt"
      ]
    },
    {
      "cell_type": "markdown",
      "metadata": {
        "id": "v2V3isvuW3S5"
      },
      "source": [
        "Install the pretrained weights for deoldify."
      ]
    },
    {
      "cell_type": "code",
      "execution_count": 3,
      "metadata": {
        "colab": {
          "base_uri": "https://localhost:8080/"
        },
        "id": "vH1T2uJLP7-K",
        "outputId": "4456f5bb-164a-40dd-b21b-7924c7483c61"
      },
      "outputs": [
        {
          "output_type": "stream",
          "name": "stdout",
          "text": [
            "--2023-01-18 14:35:39--  https://data.deepai.org/deoldify/ColorizeArtistic_gen.pth\n",
            "Resolving data.deepai.org (data.deepai.org)... 84.17.46.53, 2400:52e0:1e01::879:1\n",
            "Connecting to data.deepai.org (data.deepai.org)|84.17.46.53|:443... connected.\n",
            "HTTP request sent, awaiting response... 200 OK\n",
            "Length: 255144681 (243M) [application/octet-stream]\n",
            "Saving to: ‘./models/ColorizeArtistic_gen.pth’\n",
            "\n",
            "./models/ColorizeAr 100%[===================>] 243.32M  12.0MB/s    in 21s     \n",
            "\n",
            "2023-01-18 14:36:00 (11.8 MB/s) - ‘./models/ColorizeArtistic_gen.pth’ saved [255144681/255144681]\n",
            "\n"
          ]
        }
      ],
      "source": [
        "# HIDE OUTPUT\n",
        "!mkdir './models/'\n",
        "CMD = \"wget https://data.deepai.org/deoldify/ColorizeArtistic_gen.pth\"\\\n",
        "  \" -O ./models/ColorizeArtistic_gen.pth\"\n",
        "!{CMD}"
      ]
    },
    {
      "cell_type": "markdown",
      "metadata": {
        "id": "vjx3-yskW79W"
      },
      "source": [
        "The authors of deoldify suggest that you might wish to include a watermark to let others know that AI-enhanced this picture. The following code downloads this standard watermark. The authors describe the watermark as follows:\n",
        "\n",
        "\"This places a watermark icon of a palette at the bottom left corner of the image. The authors intend this practice to be a standard way to convey to others viewing the image that AI colorizes it. We want to help promote this as a standard, especially as the technology continues to improve and the distinction between real and fake becomes harder to discern. This palette watermark practice was initiated and led by the MyHeritage in the MyHeritage In Color feature (which uses a newer version of DeOldify than what you're using here).\""
      ]
    },
    {
      "cell_type": "code",
      "execution_count": 4,
      "metadata": {
        "colab": {
          "base_uri": "https://localhost:8080/"
        },
        "id": "kbQ-SJlOVmC2",
        "outputId": "1eaa9b74-7b3e-489f-fba0-8084ffa7bbad"
      },
      "outputs": [
        {
          "output_type": "stream",
          "name": "stdout",
          "text": [
            "--2023-01-18 14:36:00--  https://media.githubusercontent.com/media/jantic/DeOldify/master/resource_images/watermark.png\n",
            "Resolving media.githubusercontent.com (media.githubusercontent.com)... 185.199.109.133, 185.199.111.133, 185.199.110.133, ...\n",
            "Connecting to media.githubusercontent.com (media.githubusercontent.com)|185.199.109.133|:443... connected.\n",
            "HTTP request sent, awaiting response... 404 Not Found\n",
            "2023-01-18 14:36:00 ERROR 404: Not Found.\n",
            "\n"
          ]
        }
      ],
      "source": [
        "# HIDE OUTPUT\n",
        "CMD = \"wget https://media.githubusercontent.com/media/jantic/\"\\\n",
        "  \"DeOldify/master/resource_images/watermark.png \"\\\n",
        "  \"-O /content/DeOldify/resource_images/watermark.png\"\n",
        "!{CMD}"
      ]
    },
    {
      "cell_type": "markdown",
      "metadata": {
        "id": "3Z6aT7_RTqC9"
      },
      "source": [
        "## Initialize Torch Device\n",
        "\n",
        "First, we must initialize a Torch device.  If we have a GPU available, we will detect it here.  I assume that you will run this code from Google CoLab, with a GPU.  It is possible to run this code from a local GPU; however, some modification will be necessary."
      ]
    },
    {
      "cell_type": "code",
      "execution_count": 5,
      "metadata": {
        "colab": {
          "base_uri": "https://localhost:8080/"
        },
        "id": "luqoHzqsNfci",
        "outputId": "454cac96-8263-433f-9307-ce238facc408"
      },
      "outputs": [
        {
          "output_type": "stream",
          "name": "stdout",
          "text": [
            "Using GPU.\n"
          ]
        }
      ],
      "source": [
        "import sys\n",
        "\n",
        "#NOTE:  This must be the first call in order to work properly!\n",
        "from deoldify import device\n",
        "from deoldify.device_id import DeviceId\n",
        "#choices:  CPU, GPU0...GPU7\n",
        "device.set(device=DeviceId.GPU0)\n",
        "\n",
        "import torch\n",
        "\n",
        "if not torch.cuda.is_available():\n",
        "  print('GPU not available.')\n",
        "else:\n",
        "  print('Using GPU.')"
      ]
    },
    {
      "cell_type": "markdown",
      "metadata": {
        "id": "j3GkQhU8ZlNN"
      },
      "source": [
        "We can now call the model. I will enhance an image from my childhood, probably taken in the late 1970s. The picture shows three miniature schnauzers. My childhood dog (Scooby) is on the left, followed by his mom and sister. Overall, a stunning improvement. However, the red in the fire engine riding toy is lost, and the red color of the picnic table where the three dogs were sitting. "
      ]
    },
    {
      "cell_type": "code",
      "execution_count": 6,
      "metadata": {
        "colab": {
          "base_uri": "https://localhost:8080/",
          "height": 530
        },
        "id": "4OlPl8aePTcO",
        "outputId": "9a259218-fcc5-447b-a0cd-e7bc700c099e"
      },
      "outputs": [
        {
          "output_type": "stream",
          "name": "stderr",
          "text": [
            "INFO:numexpr.utils:NumExpr defaulting to 2 threads.\n"
          ]
        },
        {
          "output_type": "stream",
          "name": "stdout",
          "text": [
            "NumExpr defaulting to 2 threads.\n"
          ]
        },
        {
          "output_type": "error",
          "ename": "ModuleNotFoundError",
          "evalue": "ignored",
          "traceback": [
            "\u001b[0;31m---------------------------------------------------------------------------\u001b[0m",
            "\u001b[0;31mModuleNotFoundError\u001b[0m                       Traceback (most recent call last)",
            "\u001b[0;32m<ipython-input-6-4fa598930b51>\u001b[0m in \u001b[0;36m<module>\u001b[0;34m\u001b[0m\n\u001b[1;32m      1\u001b[0m \u001b[0;31m# HIDE OUTPUT\u001b[0m\u001b[0;34m\u001b[0m\u001b[0;34m\u001b[0m\u001b[0;34m\u001b[0m\u001b[0m\n\u001b[1;32m      2\u001b[0m \u001b[0;32mimport\u001b[0m \u001b[0mfastai\u001b[0m\u001b[0;34m\u001b[0m\u001b[0;34m\u001b[0m\u001b[0m\n\u001b[0;32m----> 3\u001b[0;31m \u001b[0;32mfrom\u001b[0m \u001b[0mdeoldify\u001b[0m\u001b[0;34m.\u001b[0m\u001b[0mvisualize\u001b[0m \u001b[0;32mimport\u001b[0m \u001b[0;34m*\u001b[0m\u001b[0;34m\u001b[0m\u001b[0;34m\u001b[0m\u001b[0m\n\u001b[0m\u001b[1;32m      4\u001b[0m \u001b[0;32mimport\u001b[0m \u001b[0mwarnings\u001b[0m\u001b[0;34m\u001b[0m\u001b[0;34m\u001b[0m\u001b[0m\n\u001b[1;32m      5\u001b[0m \u001b[0;32mfrom\u001b[0m \u001b[0murllib\u001b[0m\u001b[0;34m.\u001b[0m\u001b[0mparse\u001b[0m \u001b[0;32mimport\u001b[0m \u001b[0murlparse\u001b[0m\u001b[0;34m\u001b[0m\u001b[0;34m\u001b[0m\u001b[0m\n",
            "\u001b[0;32m/content/DeOldify/deoldify/visualize.py\u001b[0m in \u001b[0;36m<module>\u001b[0;34m\u001b[0m\n\u001b[1;32m      5\u001b[0m \u001b[0;32mfrom\u001b[0m \u001b[0;34m.\u001b[0m\u001b[0mgenerators\u001b[0m \u001b[0;32mimport\u001b[0m \u001b[0mgen_inference_deep\u001b[0m\u001b[0;34m,\u001b[0m \u001b[0mgen_inference_wide\u001b[0m\u001b[0;34m\u001b[0m\u001b[0;34m\u001b[0m\u001b[0m\n\u001b[1;32m      6\u001b[0m \u001b[0;32mfrom\u001b[0m \u001b[0mPIL\u001b[0m \u001b[0;32mimport\u001b[0m \u001b[0mImage\u001b[0m\u001b[0;34m\u001b[0m\u001b[0;34m\u001b[0m\u001b[0m\n\u001b[0;32m----> 7\u001b[0;31m \u001b[0;32mimport\u001b[0m \u001b[0mffmpeg\u001b[0m\u001b[0;34m\u001b[0m\u001b[0;34m\u001b[0m\u001b[0m\n\u001b[0m\u001b[1;32m      8\u001b[0m \u001b[0;32mimport\u001b[0m \u001b[0myt_dlp\u001b[0m \u001b[0;32mas\u001b[0m \u001b[0myoutube_dl\u001b[0m\u001b[0;34m\u001b[0m\u001b[0;34m\u001b[0m\u001b[0m\n\u001b[1;32m      9\u001b[0m \u001b[0;32mimport\u001b[0m \u001b[0mgc\u001b[0m\u001b[0;34m\u001b[0m\u001b[0;34m\u001b[0m\u001b[0m\n",
            "\u001b[0;31mModuleNotFoundError\u001b[0m: No module named 'ffmpeg'",
            "",
            "\u001b[0;31m---------------------------------------------------------------------------\u001b[0;32m\nNOTE: If your import is failing due to a missing package, you can\nmanually install dependencies using either !pip or !apt.\n\nTo view examples of installing some common dependencies, click the\n\"Open Examples\" button below.\n\u001b[0;31m---------------------------------------------------------------------------\u001b[0m\n"
          ],
          "errorDetails": {
            "actions": [
              {
                "action": "open_url",
                "actionText": "Open Examples",
                "url": "/notebooks/snippets/importing_libraries.ipynb"
              }
            ]
          }
        }
      ],
      "source": [
        "# HIDE OUTPUT\n",
        "import fastai\n",
        "from deoldify.visualize import *\n",
        "import warnings\n",
        "from urllib.parse import urlparse\n",
        "import os\n",
        "\n",
        "warnings.filterwarnings(\"ignore\", category=UserWarning, \n",
        "          message=\".*?Your .*? set is empty.*?\")\n",
        "\n",
        "URL = 'https://raw.githubusercontent.com/jeffheaton/'\\\n",
        "  't81_558_deep_learning/master/photos/scooby_family.jpg' \n",
        "\n",
        "!wget {URL}\n",
        "\n",
        "a = urlparse(URL)\n",
        "before_file = os.path.basename(a.path)\n",
        "\n",
        "RENDER_FACTOR = 35  \n",
        "WATERMARK = False\n",
        "\n",
        "colorizer = get_image_colorizer(artistic=True)\n",
        "\n",
        "after_image = colorizer.get_transformed_image(\n",
        "    before_file, render_factor=RENDER_FACTOR, \n",
        "    watermarked=WATERMARK)\n",
        "#print(\"Starting image:\")\n",
        "\n",
        "\n",
        "\n",
        "\n"
      ]
    },
    {
      "cell_type": "markdown",
      "metadata": {
        "id": "KuZrll6Er0XZ"
      },
      "source": [
        "You can see the starting image here."
      ]
    },
    {
      "cell_type": "code",
      "execution_count": null,
      "metadata": {
        "id": "hKrj7mlfsAZI"
      },
      "outputs": [],
      "source": [
        "from IPython import display\n",
        "display.Image(URL)"
      ]
    },
    {
      "cell_type": "markdown",
      "metadata": {
        "id": "-DJW6jY-sE3k"
      },
      "source": [
        "You can see the deoldify version here. Please note that these two images will look similar in a black and white book. To see it in color, visit this [link](https://github.com/jeffheaton/t81_558_deep_learning/blob/master/t81_558_class_07_4_deoldify.ipynb)."
      ]
    },
    {
      "cell_type": "code",
      "execution_count": null,
      "metadata": {
        "id": "GeT-7KVNrFq3"
      },
      "outputs": [],
      "source": [
        "after_image"
      ]
    }
  ],
  "metadata": {
    "accelerator": "GPU",
    "anaconda-cloud": {},
    "colab": {
      "name": "Copy of t81_558_class_07_4_deoldify.ipynb",
      "provenance": []
    },
    "kernelspec": {
      "display_name": "Python 3.9 (tensorflow)",
      "language": "python",
      "name": "tensorflow"
    },
    "language_info": {
      "codemirror_mode": {
        "name": "ipython",
        "version": 3
      },
      "file_extension": ".py",
      "mimetype": "text/x-python",
      "name": "python",
      "nbconvert_exporter": "python",
      "pygments_lexer": "ipython3",
      "version": "3.9.7"
    }
  },
  "nbformat": 4,
  "nbformat_minor": 0
}