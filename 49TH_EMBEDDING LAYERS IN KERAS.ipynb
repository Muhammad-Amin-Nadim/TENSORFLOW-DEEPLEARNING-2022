{
  "cells": [
    {
      "cell_type": "markdown",
      "metadata": {
        "id": "nPIDsF57oBZR"
      },
      "source": [
        "# T81-558: Applications of Deep Neural Networks\n",
        "**Module 11: Natural Language Processing and Speech Recognition**\n"
      ]
    },
    {
      "cell_type": "markdown",
      "metadata": {
        "id": "92qJtJOToBZS"
      },
      "source": [
        "# Google CoLab Instructions\n",
        "\n",
        "The following code ensures that Google CoLab is running the correct version of TensorFlow."
      ]
    },
    {
      "cell_type": "code",
      "execution_count": 1,
      "metadata": {
        "colab": {
          "base_uri": "https://localhost:8080/"
        },
        "id": "LvTVJyBMoBZS",
        "outputId": "c3f892f2-aad1-4da2-a7c0-724158b56d6a"
      },
      "outputs": [
        {
          "output_type": "stream",
          "name": "stdout",
          "text": [
            "Colab only includes TensorFlow 2.x; %tensorflow_version has no effect.\n",
            "Note: using Google CoLab\n"
          ]
        }
      ],
      "source": [
        "try:\n",
        "    %tensorflow_version 2.x\n",
        "    COLAB = True\n",
        "    print(\"Note: using Google CoLab\")\n",
        "except:\n",
        "    print(\"Note: not using Google CoLab\")\n",
        "    COLAB = False"
      ]
    },
    {
      "cell_type": "markdown",
      "metadata": {
        "id": "wTUM5nqjoBZT"
      },
      "source": [
        "# Part 11.5: What are Embedding Layers in Keras\n",
        "\n",
        "[Embedding Layers](https://keras.io/layers/embeddings/) are a handy feature of Keras that allows the program to automatically insert additional information into the data flow of your neural network. In the previous section, you saw that Word2Vec could expand words to a 300 dimension vector. An embedding layer would automatically allow you to insert these 300-dimension vectors in the place of word indexes.  \n",
        "\n",
        "Programmers often use embedding layers with Natural Language Processing (NLP); however, you can use these layers when you wish to insert a lengthier vector in an index value place. In some ways, you can think of an embedding layer as dimension expansion. However, the hope is that these additional dimensions provide more information to the model and provide a better score.\n",
        "\n",
        "## Simple Embedding Layer Example\n",
        "\n",
        "* **input_dim** = How large is the vocabulary?  How many categories are you encoding? This parameter is the number of items in your \"lookup table.\"\n",
        "* **output_dim** = How many numbers in the vector you wish to return. \n",
        "* **input_length** = How many items are in the input feature vector that you need to transform?\n",
        "\n",
        "Now we create a neural network with a vocabulary size of 10, which will reduce those values between 0-9 to 4 number vectors. This neural network does nothing more than passing the embedding on to the output. But it does let us see what the embedding is doing. Each feature vector coming in will have two such features."
      ]
    },
    {
      "cell_type": "code",
      "execution_count": 2,
      "metadata": {
        "id": "CZk4DnzDoBZU"
      },
      "outputs": [],
      "source": [
        "from tensorflow.keras.models import Sequential\n",
        "from tensorflow.keras.layers import Embedding\n",
        "import numpy as np\n",
        "\n",
        "model = Sequential()\n",
        "embedding_layer = Embedding(input_dim=10, output_dim=4, input_length=2)\n",
        "model.add(embedding_layer)\n",
        "model.compile('adam', 'mse')\n"
      ]
    },
    {
      "cell_type": "markdown",
      "metadata": {
        "id": "eXHSrr3poBZU"
      },
      "source": [
        "Let's take a look at the structure of this neural network to see what is happening inside it."
      ]
    },
    {
      "cell_type": "code",
      "execution_count": 3,
      "metadata": {
        "colab": {
          "base_uri": "https://localhost:8080/"
        },
        "id": "kqawbb_PoBZU",
        "outputId": "6492da23-cc14-4d58-c7b0-880af0c4acfe"
      },
      "outputs": [
        {
          "output_type": "stream",
          "name": "stdout",
          "text": [
            "Model: \"sequential\"\n",
            "_________________________________________________________________\n",
            " Layer (type)                Output Shape              Param #   \n",
            "=================================================================\n",
            " embedding (Embedding)       (None, 2, 4)              40        \n",
            "                                                                 \n",
            "=================================================================\n",
            "Total params: 40\n",
            "Trainable params: 40\n",
            "Non-trainable params: 0\n",
            "_________________________________________________________________\n"
          ]
        }
      ],
      "source": [
        "model.summary()"
      ]
    },
    {
      "cell_type": "markdown",
      "metadata": {
        "id": "6kh6wKszoBZV"
      },
      "source": [
        "For this neural network, which is just an embedding layer, the input is a vector of size 2. These two inputs are integer numbers from 0 to 9 (corresponding to the requested input_dim quantity of 10 values). Looking at the summary above, we see that the embedding layer has 40 parameters. This value comes from the embedded lookup table that contains four amounts (output_dim) for each of the 10 (input_dim) possible integer values for the two inputs. The output is 2 (input_length) length 4 (output_dim) vectors, resulting in a total output size of 8, which corresponds to the Output Shape given in the summary above.\n",
        "\n",
        "Now, let us query the neural network with two rows. The input is two integer values, as was specified when we created the neural network."
      ]
    },
    {
      "cell_type": "code",
      "execution_count": 4,
      "metadata": {
        "colab": {
          "base_uri": "https://localhost:8080/"
        },
        "id": "iRBKtw-_oBZV",
        "outputId": "3baee9a6-e7fd-4014-99f8-942642af5492"
      },
      "outputs": [
        {
          "output_type": "stream",
          "name": "stdout",
          "text": [
            "1/1 [==============================] - 0s 271ms/step\n",
            "(1, 2)\n",
            "[[[-0.03654991  0.00118203  0.04125157  0.02377962]\n",
            "  [ 0.00772605  0.03121629 -0.00048063 -0.04791361]]]\n"
          ]
        }
      ],
      "source": [
        "input_data = np.array([\n",
        "    [1, 2]\n",
        "])\n",
        "\n",
        "pred = model.predict(input_data)\n",
        "\n",
        "print(input_data.shape)\n",
        "print(pred)\n"
      ]
    },
    {
      "cell_type": "markdown",
      "metadata": {
        "id": "DRfFids1oBZV"
      },
      "source": [
        "Here we see two length-4 vectors that Keras looked up for each input integer. Recall that Python arrays are zero-based. Keras replaced the value of 1 with the second row of the 10 x 4 lookup matrix. Similarly, Keras returned the value of 2 by the third row of the lookup matrix. The following code displays the lookup matrix in its entirety. The embedding layer performs no mathematical operations other than inserting the correct row from the lookup table."
      ]
    },
    {
      "cell_type": "code",
      "execution_count": 5,
      "metadata": {
        "colab": {
          "base_uri": "https://localhost:8080/"
        },
        "id": "YStGrTSKoBZW",
        "outputId": "8aa98270-96fc-4842-a887-36b5d66da5a6"
      },
      "outputs": [
        {
          "output_type": "execute_result",
          "data": {
            "text/plain": [
              "[array([[ 0.00720556,  0.00368415, -0.00720632, -0.03052187],\n",
              "        [-0.03654991,  0.00118203,  0.04125157,  0.02377962],\n",
              "        [ 0.00772605,  0.03121629, -0.00048063, -0.04791361],\n",
              "        [ 0.00578051, -0.04160504,  0.03877043,  0.02148824],\n",
              "        [-0.01104206,  0.00721962, -0.03856858,  0.03860551],\n",
              "        [ 0.01523719, -0.00942727,  0.02700025,  0.03826303],\n",
              "        [-0.00296941,  0.02662751,  0.00508716, -0.00619259],\n",
              "        [-0.00305676, -0.0314423 ,  0.04619825, -0.03670627],\n",
              "        [-0.00417053,  0.04746211,  0.0468371 ,  0.03486938],\n",
              "        [-0.00586234,  0.00303736,  0.00040786,  0.02753874]],\n",
              "       dtype=float32)]"
            ]
          },
          "metadata": {},
          "execution_count": 5
        }
      ],
      "source": [
        "embedding_layer.get_weights()"
      ]
    },
    {
      "cell_type": "markdown",
      "metadata": {
        "id": "y0QLcjnwoBZW"
      },
      "source": [
        "The values above are random parameters that Keras generated as starting points.  Generally, we will transfer an embedding or train these random values into something useful.  The following section demonstrates how to embed a hand-coded embedding. \n",
        "\n",
        "## Transferring An Embedding\n",
        "\n",
        "Now, we see how to hard-code an embedding lookup that performs a simple one-hot encoding.  One-hot encoding would transform the input integer values of 0, 1, and 2 to the vectors $[1,0,0]$, $[0,1,0]$, and $[0,0,1]$ respectively. The following code replaced the random lookup values in the embedding layer with this one-hot coding-inspired lookup table."
      ]
    },
    {
      "cell_type": "code",
      "execution_count": 6,
      "metadata": {
        "id": "AIt-SWK6oBZW"
      },
      "outputs": [],
      "source": [
        "from tensorflow.keras.models import Sequential\n",
        "from tensorflow.keras.layers import Embedding\n",
        "import numpy as np\n",
        "\n",
        "embedding_lookup = np.array([\n",
        "    [1, 0, 0],\n",
        "    [0, 1, 0],\n",
        "    [0, 0, 1]\n",
        "])\n",
        "\n",
        "model = Sequential()\n",
        "embedding_layer = Embedding(input_dim=3, output_dim=3, input_length=2)\n",
        "model.add(embedding_layer)\n",
        "model.compile('adam', 'mse')\n",
        "\n",
        "embedding_layer.set_weights([embedding_lookup])\n"
      ]
    },
    {
      "cell_type": "markdown",
      "metadata": {
        "id": "oQ_bVdtkoBZW"
      },
      "source": [
        "We have the following parameters for the Embedding layer:\n",
        "    \n",
        "* input_dim=3 - There are three different integer categorical values allowed.\n",
        "* output_dim=3 - Three columns represent a categorical value with three possible values per one-hot encoding.\n",
        "* input_length=2 - The input vector has two of these categorical values.\n",
        "\n",
        "We query the neural network with two categorical values to see the lookup performed."
      ]
    },
    {
      "cell_type": "code",
      "execution_count": 7,
      "metadata": {
        "colab": {
          "base_uri": "https://localhost:8080/"
        },
        "id": "ufBqgk6joBZW",
        "outputId": "f5dc83e3-bacb-4e64-cb49-e9b2c2668520"
      },
      "outputs": [
        {
          "output_type": "stream",
          "name": "stdout",
          "text": [
            "1/1 [==============================] - 0s 82ms/step\n",
            "(1, 2)\n",
            "[[[1. 0. 0.]\n",
            "  [0. 1. 0.]]]\n"
          ]
        }
      ],
      "source": [
        "input_data = np.array([\n",
        "    [0, 1]\n",
        "])\n",
        "\n",
        "pred = model.predict(input_data)\n",
        "\n",
        "print(input_data.shape)\n",
        "print(pred)\n"
      ]
    },
    {
      "cell_type": "markdown",
      "metadata": {
        "id": "pX76cE9HoBZW"
      },
      "source": [
        "The given output shows that we provided the program with two rows from the one-hot encoding table. This encoding is a correct one-hot encoding for the values 0 and 1, where there are up to 3 unique values possible. \n",
        "\n",
        "The following section demonstrates how to train this embedding lookup table.\n",
        "\n",
        "## Training an Embedding\n",
        "\n",
        "First, we make use of the following imports."
      ]
    },
    {
      "cell_type": "code",
      "execution_count": 8,
      "metadata": {
        "id": "mb-nwgKhoBZX"
      },
      "outputs": [],
      "source": [
        "from numpy import array\n",
        "from tensorflow.keras.preprocessing.text import one_hot\n",
        "from tensorflow.keras.preprocessing.sequence import pad_sequences\n",
        "from tensorflow.keras.models import Sequential\n",
        "from tensorflow.keras.layers import Flatten, Embedding, Dense"
      ]
    },
    {
      "cell_type": "markdown",
      "metadata": {
        "id": "dJ7UlNZfoBZX"
      },
      "source": [
        "We create a neural network that classifies restaurant reviews according to positive or negative.  This neural network can accept strings as input, such as given here.  This code also includes positive or negative labels for each review."
      ]
    },
    {
      "cell_type": "code",
      "execution_count": 9,
      "metadata": {
        "id": "vr20wr0ZoBZX"
      },
      "outputs": [],
      "source": [
        "# Define 10 resturant reviews.\n",
        "reviews = [\n",
        "    'Never coming back!',\n",
        "    'Horrible service',\n",
        "    'Rude waitress',\n",
        "    'Cold food.',\n",
        "    'Horrible food!',\n",
        "    'Awesome',\n",
        "    'Awesome service!',\n",
        "    'Rocks!',\n",
        "    'poor work',\n",
        "    'Couldn\\'t have done better']\n",
        "\n",
        "# Define labels (1=negative, 0=positive)\n",
        "labels = array([1, 1, 1, 1, 1, 0, 0, 0, 0, 0])\n"
      ]
    },
    {
      "cell_type": "markdown",
      "metadata": {
        "id": "ID5bpFo2oBZX"
      },
      "source": [
        "Notice that the second to the last label is incorrect.  Errors such as this are not too out of the ordinary, as most training data could have some noise.\n",
        "\n",
        "We define a vocabulary size of 50 words.  Though we do not have 50 words, it is okay to use a value larger than needed.  If there are more than 50 words, the least frequently used words in the training set are automatically dropped by the embedding layer during training.  For input, we one-hot encode the strings.  We use the TensorFlow one-hot encoding method here rather than Scikit-Learn. Scikit-learn would expand these strings to the 0's and 1's as we would typically see for dummy variables.  TensorFlow translates all words to index values and replaces each word with that index."
      ]
    },
    {
      "cell_type": "code",
      "execution_count": 10,
      "metadata": {
        "colab": {
          "base_uri": "https://localhost:8080/"
        },
        "id": "aq0ph8hYoBZX",
        "outputId": "c40f58dc-8007-4f8f-893c-a37d91c7f105"
      },
      "outputs": [
        {
          "output_type": "stream",
          "name": "stdout",
          "text": [
            "Encoded reviews: [[29, 44, 21], [22, 22], [30, 47], [33, 33], [22, 33], [46], [46, 22], [21], [17, 37], [4, 27, 30, 32]]\n"
          ]
        }
      ],
      "source": [
        "VOCAB_SIZE = 50\n",
        "encoded_reviews = [one_hot(d, VOCAB_SIZE) for d in reviews]\n",
        "print(f\"Encoded reviews: {encoded_reviews}\")\n"
      ]
    },
    {
      "cell_type": "markdown",
      "metadata": {
        "id": "XQ2VeMHGoBZX"
      },
      "source": [
        "The program one-hot encodes these reviews to word indexes; however, their lengths are different.  We pad these reviews to 4 words and truncate any words beyond the fourth word."
      ]
    },
    {
      "cell_type": "code",
      "execution_count": 11,
      "metadata": {
        "colab": {
          "base_uri": "https://localhost:8080/"
        },
        "id": "tfrvYtaBoBZX",
        "outputId": "5856071f-5cc9-4f54-9277-35d38e36b837"
      },
      "outputs": [
        {
          "output_type": "stream",
          "name": "stdout",
          "text": [
            "[[29 44 21  0]\n",
            " [22 22  0  0]\n",
            " [30 47  0  0]\n",
            " [33 33  0  0]\n",
            " [22 33  0  0]\n",
            " [46  0  0  0]\n",
            " [46 22  0  0]\n",
            " [21  0  0  0]\n",
            " [17 37  0  0]\n",
            " [ 4 27 30 32]]\n"
          ]
        }
      ],
      "source": [
        "MAX_LENGTH = 4\n",
        "\n",
        "padded_reviews = pad_sequences(encoded_reviews, maxlen=MAX_LENGTH,\n",
        "                               padding='post')\n",
        "print(padded_reviews)\n"
      ]
    },
    {
      "cell_type": "markdown",
      "metadata": {
        "id": "nwMJm4ztoBZX"
      },
      "source": [
        "As specified by the **padding=post** setting, each review is padded by appending zeros at the end, as specified by the **padding=post** setting.\n",
        "\n",
        "Next, we create a neural network to learn to classify these reviews. "
      ]
    },
    {
      "cell_type": "code",
      "execution_count": 12,
      "metadata": {
        "colab": {
          "base_uri": "https://localhost:8080/"
        },
        "id": "GK2yiTFRoBZX",
        "outputId": "fadc49d9-630f-46b9-8ee0-b83d16acf22a"
      },
      "outputs": [
        {
          "output_type": "stream",
          "name": "stdout",
          "text": [
            "Model: \"sequential_2\"\n",
            "_________________________________________________________________\n",
            " Layer (type)                Output Shape              Param #   \n",
            "=================================================================\n",
            " embedding_2 (Embedding)     (None, 4, 8)              400       \n",
            "                                                                 \n",
            " flatten (Flatten)           (None, 32)                0         \n",
            "                                                                 \n",
            " dense (Dense)               (None, 1)                 33        \n",
            "                                                                 \n",
            "=================================================================\n",
            "Total params: 433\n",
            "Trainable params: 433\n",
            "Non-trainable params: 0\n",
            "_________________________________________________________________\n",
            "None\n"
          ]
        }
      ],
      "source": [
        "model = Sequential()\n",
        "embedding_layer = Embedding(VOCAB_SIZE, 8, input_length=MAX_LENGTH)\n",
        "model.add(embedding_layer)\n",
        "model.add(Flatten())\n",
        "model.add(Dense(1, activation='sigmoid'))\n",
        "model.compile(optimizer='adam', loss='binary_crossentropy',\n",
        "              metrics=['acc'])\n",
        "\n",
        "print(model.summary())\n"
      ]
    },
    {
      "cell_type": "markdown",
      "metadata": {
        "id": "jvpQk1GXoBZX"
      },
      "source": [
        "This network accepts four integer inputs that specify the indexes of a padded movie review. The first embedding layer converts these four indexes into four length vectors 8. These vectors come from the lookup table that contains 50 (VOCAB_SIZE) rows of vectors of length 8. This encoding is evident by the 400 (8 times 50) parameters in the embedding layer. The output size from the embedding layer is 32 (4 words expressed as 8-number embedded vectors). A single output neuron is connected to the embedding layer by 33 weights (32 from the embedding layer and a single bias neuron). Because this is a single-class classification network, we use the sigmoid activation function and binary_crossentropy.\n",
        "\n",
        "The program now trains the neural network. The embedding lookup and dense 33 weights are updated to produce a better score."
      ]
    },
    {
      "cell_type": "code",
      "execution_count": 13,
      "metadata": {
        "colab": {
          "base_uri": "https://localhost:8080/"
        },
        "id": "BkRJvhz7oBZY",
        "outputId": "8c152829-1c97-41cd-cc93-ade73171f048"
      },
      "outputs": [
        {
          "output_type": "execute_result",
          "data": {
            "text/plain": [
              "<keras.callbacks.History at 0x7fb2d8b654f0>"
            ]
          },
          "metadata": {},
          "execution_count": 13
        }
      ],
      "source": [
        "# fit the model\n",
        "model.fit(padded_reviews, labels, epochs=100, verbose=0)\n"
      ]
    },
    {
      "cell_type": "markdown",
      "metadata": {
        "id": "m8306knWoBZY"
      },
      "source": [
        "We can see the learned embeddings.  Think of each word's vector as a location in the 8 dimension space where words associated with positive reviews are close to other words.  Similarly, training places negative reviews close to each other.  In addition to the training setting these embeddings, the 33 weights between the embedding layer and output neuron similarly learn to transform these embeddings into an actual prediction.  You can see these embeddings here."
      ]
    },
    {
      "cell_type": "code",
      "execution_count": 14,
      "metadata": {
        "colab": {
          "base_uri": "https://localhost:8080/"
        },
        "id": "bt_4XhUooBZY",
        "outputId": "b7283ae7-cb2c-4799-83cf-f9206f435531"
      },
      "outputs": [
        {
          "output_type": "stream",
          "name": "stdout",
          "text": [
            "(50, 8)\n",
            "[array([[ 1.11857265e-01,  1.37574121e-01,  6.91792369e-02,\n",
            "         9.29275379e-02, -1.40392005e-01,  1.16336763e-01,\n",
            "        -1.58557788e-01,  1.50498122e-01],\n",
            "       [-3.06804311e-02,  2.29645893e-03, -2.25644708e-02,\n",
            "         2.18918361e-02, -3.40048075e-02,  2.48487704e-02,\n",
            "        -3.58937606e-02, -4.17664424e-02],\n",
            "       [ 3.86352278e-02, -3.26967463e-02, -3.14914361e-02,\n",
            "        -3.94135714e-02,  8.92825052e-03, -3.19075212e-02,\n",
            "        -2.48982795e-02,  2.27136947e-02],\n",
            "       [ 3.98450978e-02, -1.50926821e-02,  3.47556360e-02,\n",
            "        -4.54142801e-02,  1.82844140e-02, -4.36535962e-02,\n",
            "         3.81830819e-02,  1.14560947e-02],\n",
            "       [ 1.47758931e-01, -7.27836564e-02,  6.89298660e-02,\n",
            "        -9.78468135e-02,  6.74533248e-02,  6.70237169e-02,\n",
            "         1.40040591e-01,  1.49051428e-01],\n",
            "       [ 1.54314078e-02, -1.41270980e-02,  7.71261379e-03,\n",
            "        -2.09332462e-02,  3.81907709e-02, -2.04762220e-02,\n",
            "         3.29705738e-02,  4.42370661e-02],\n",
            "       [-3.12719233e-02,  3.44448574e-02,  1.96715482e-02,\n",
            "        -4.67059985e-02, -4.38540094e-02,  4.63359840e-02,\n",
            "        -4.45065759e-02,  7.23690912e-03],\n",
            "       [-1.33063085e-02, -4.79595438e-02, -3.73516902e-02,\n",
            "        -1.26386993e-02,  3.30423005e-02, -3.92143019e-02,\n",
            "        -4.12866957e-02,  3.52159180e-02],\n",
            "       [-1.25870705e-02, -3.34498771e-02, -8.87180492e-03,\n",
            "        -2.20836997e-02,  3.99004668e-04,  1.71606615e-03,\n",
            "        -1.90986320e-03, -4.51757424e-02],\n",
            "       [-1.50984041e-02, -4.32427786e-02, -4.59909104e-02,\n",
            "        -9.82975960e-03, -2.11956352e-03,  9.59835202e-03,\n",
            "        -1.56817064e-02,  2.32132524e-03],\n",
            "       [-4.79219072e-02,  2.18436606e-02, -1.16900355e-03,\n",
            "        -3.06692123e-02, -2.53801476e-02, -1.48672350e-02,\n",
            "        -1.42002106e-02, -4.83306497e-03],\n",
            "       [ 1.45779289e-02,  1.79141052e-02, -2.68188249e-02,\n",
            "        -4.28395979e-02, -1.76402442e-02,  2.88312696e-02,\n",
            "        -4.02827859e-02, -3.04297097e-02],\n",
            "       [-3.60361449e-02,  1.52279064e-03, -6.68370724e-03,\n",
            "        -3.52416858e-02, -9.48972628e-03,  4.71584313e-02,\n",
            "        -2.60916483e-02, -1.24906078e-02],\n",
            "       [ 3.80803011e-02, -2.27819756e-03, -3.92475240e-02,\n",
            "        -3.81178781e-03, -8.82289559e-03,  4.84942310e-02,\n",
            "         2.22743191e-02, -9.93586704e-03],\n",
            "       [-1.35941878e-02, -4.76454496e-02,  6.16856664e-03,\n",
            "        -4.80720997e-02, -8.13673809e-03, -6.19504601e-03,\n",
            "        -4.69105244e-02,  4.89023067e-02],\n",
            "       [ 3.42628993e-02,  1.30625032e-02,  1.73081644e-02,\n",
            "        -1.53066739e-02, -6.31070137e-03,  1.92797072e-02,\n",
            "         4.55579646e-02,  2.19239928e-02],\n",
            "       [ 3.24035920e-02,  1.26737989e-02, -3.85042205e-02,\n",
            "        -4.08604257e-02, -2.16438901e-02,  5.08679077e-03,\n",
            "        -4.62503918e-02, -4.85813878e-02],\n",
            "       [ 8.19996893e-02, -1.43775061e-01,  1.42491952e-01,\n",
            "        -1.44495606e-01,  7.59936944e-02,  1.19111657e-01,\n",
            "         1.38847321e-01,  1.53295740e-01],\n",
            "       [-3.05986404e-02, -1.81493275e-02, -1.80560127e-02,\n",
            "         5.99299744e-03, -3.16032059e-02, -2.01541670e-02,\n",
            "        -1.21260509e-02, -1.45032257e-03],\n",
            "       [-4.74998467e-02, -1.07404217e-02,  2.29196064e-02,\n",
            "         3.93962301e-02,  1.33552887e-02, -1.00442395e-02,\n",
            "         4.69132923e-02,  3.70861925e-02],\n",
            "       [-2.44840626e-02, -3.43766324e-02, -2.40511894e-02,\n",
            "        -2.50702742e-02, -4.04515490e-02,  1.07447989e-02,\n",
            "        -3.37020531e-02,  4.59557213e-02],\n",
            "       [-3.40546966e-02, -9.24256817e-02,  7.78042078e-02,\n",
            "        -1.27699032e-01, -6.52979221e-03,  1.27691239e-01,\n",
            "         1.30375758e-01, -3.58516499e-02],\n",
            "       [-1.41527593e-01,  1.22616552e-01, -1.38617918e-01,\n",
            "         8.89879540e-02, -1.38940707e-01, -1.23889193e-01,\n",
            "        -1.06297366e-01, -1.13140039e-01],\n",
            "       [ 1.58883631e-04,  3.60629000e-02,  3.78455967e-03,\n",
            "        -3.95481214e-02, -3.68222371e-02,  2.58816145e-02,\n",
            "        -2.53392588e-02,  3.96127813e-02],\n",
            "       [ 2.47032680e-02, -4.65057865e-02,  3.00260633e-03,\n",
            "        -2.85970569e-02,  3.57255600e-02, -4.46734913e-02,\n",
            "        -3.92863639e-02, -2.41277218e-02],\n",
            "       [ 2.03879736e-02,  1.20011941e-02,  4.28887047e-02,\n",
            "         7.46846199e-04,  4.26355340e-02, -2.81691439e-02,\n",
            "        -3.15132737e-02, -2.63648517e-02],\n",
            "       [ 2.65492834e-02,  1.03353634e-02, -9.65499878e-03,\n",
            "         1.78778879e-02,  2.70862468e-02,  1.58836283e-02,\n",
            "         2.93015726e-02, -4.41005491e-02],\n",
            "       [ 6.09295480e-02,  7.82691538e-02,  7.44165555e-02,\n",
            "         1.29807681e-01, -1.21252626e-01,  1.26347795e-01,\n",
            "        -1.51484445e-01,  7.43803009e-02],\n",
            "       [ 2.61759274e-02,  4.26622964e-02, -1.04077682e-02,\n",
            "         4.33471538e-02,  1.12806670e-02,  4.74574082e-02,\n",
            "        -9.72955301e-03, -4.41526286e-02],\n",
            "       [-9.55757499e-02,  1.40415132e-01, -6.20730259e-02,\n",
            "         5.20522445e-02, -1.23062655e-01, -1.50256857e-01,\n",
            "        -1.10260904e-01, -1.28552839e-01],\n",
            "       [ 4.11829054e-02,  8.91673118e-02, -6.45746738e-02,\n",
            "         1.22434825e-01,  1.48782916e-02, -1.25314444e-01,\n",
            "        -1.16513722e-01,  6.98760971e-02],\n",
            "       [-1.60045549e-03, -2.19645035e-02,  4.41439189e-02,\n",
            "         3.76563147e-03, -3.98133993e-02, -1.79029815e-02,\n",
            "        -4.26561013e-02,  1.26579516e-02],\n",
            "       [-1.34676173e-01, -8.84857997e-02,  8.09470117e-02,\n",
            "        -1.20341554e-01,  1.25801653e-01,  1.24595068e-01,\n",
            "         7.09106997e-02,  2.06354298e-02],\n",
            "       [-7.98675269e-02, -2.02469304e-02, -6.08968213e-02,\n",
            "        -1.08779870e-01,  8.21567774e-02, -1.25595674e-01,\n",
            "         1.21013410e-01, -1.39955267e-01],\n",
            "       [ 3.54527570e-02, -3.79032269e-02,  2.11923197e-03,\n",
            "        -5.69624826e-03,  2.54083313e-02,  1.52163580e-03,\n",
            "         1.82602555e-03, -4.70094755e-03],\n",
            "       [-1.80174224e-02, -1.86794773e-02,  3.70547213e-02,\n",
            "        -1.38379931e-02, -1.40890479e-02,  4.08925116e-04,\n",
            "        -2.56835297e-03, -6.58825785e-03],\n",
            "       [ 1.82651542e-02, -2.94671897e-02,  3.23237441e-02,\n",
            "         4.25960459e-02, -2.45077610e-02,  1.63929537e-03,\n",
            "        -2.53361352e-02, -7.19817728e-03],\n",
            "       [ 8.51661041e-02,  1.59727067e-01,  7.37303346e-02,\n",
            "         1.25562459e-01, -8.65396187e-02,  7.15932772e-02,\n",
            "        -1.19760133e-01,  1.09823674e-01],\n",
            "       [-1.87638048e-02, -1.16318464e-03, -2.58079525e-02,\n",
            "         4.01324145e-02, -8.49976391e-03, -3.85316610e-02,\n",
            "        -3.50731611e-03, -4.23064083e-03],\n",
            "       [-1.03200190e-02, -1.44193321e-03,  1.86786056e-05,\n",
            "        -4.69566360e-02,  7.83164427e-03,  1.85443424e-02,\n",
            "         9.00205225e-03, -1.01547614e-02],\n",
            "       [-2.76569370e-02,  8.58735293e-04, -1.38732903e-02,\n",
            "        -4.88676205e-02,  4.53480333e-03,  8.35801288e-03,\n",
            "        -2.04726458e-02, -1.83742046e-02],\n",
            "       [-4.27463911e-02,  2.38125399e-03, -8.70752335e-03,\n",
            "        -1.82039142e-02,  1.17547400e-02,  2.07181312e-02,\n",
            "        -1.81235299e-02, -2.34885216e-02],\n",
            "       [ 2.00900547e-02,  3.09309699e-02, -2.21384410e-02,\n",
            "        -3.95972617e-02,  2.56869532e-02, -4.67239618e-02,\n",
            "        -6.90992922e-03,  3.29990871e-02],\n",
            "       [-3.39519605e-02, -1.97779015e-03,  7.01975077e-04,\n",
            "        -3.91904935e-02, -4.26275507e-02,  2.97680981e-02,\n",
            "         2.71823741e-02,  3.79866697e-02],\n",
            "       [-1.19474307e-01, -6.58523813e-02, -1.30708024e-01,\n",
            "        -8.51635337e-02,  6.64543435e-02, -5.88170253e-02,\n",
            "         1.23298913e-01, -1.33548990e-01],\n",
            "       [-4.81250063e-02,  2.76555754e-02,  4.72102500e-02,\n",
            "         1.45769976e-02, -2.35193260e-02, -4.75547090e-02,\n",
            "         3.19623984e-02, -4.97133620e-02],\n",
            "       [ 5.87128587e-02, -1.20016500e-01,  8.36709738e-02,\n",
            "        -1.18733399e-01,  7.47558400e-02,  9.81260389e-02,\n",
            "         1.53909117e-01,  1.11388505e-01],\n",
            "       [-1.16716765e-01, -1.34150729e-01, -1.38890967e-01,\n",
            "        -1.49417132e-01,  1.05162606e-01, -8.57255906e-02,\n",
            "         1.59272850e-01, -7.98649192e-02],\n",
            "       [-4.31317464e-02,  4.45411466e-02, -1.85496435e-02,\n",
            "        -4.58727255e-02, -5.15829399e-03, -1.36345997e-02,\n",
            "        -4.72370051e-02, -5.06054610e-04],\n",
            "       [ 3.41867469e-02, -3.58657911e-03, -1.48225538e-02,\n",
            "        -4.39673662e-03, -3.49999182e-02,  2.75230668e-02,\n",
            "         4.67902459e-02, -6.21821731e-03]], dtype=float32)]\n"
          ]
        }
      ],
      "source": [
        "print(embedding_layer.get_weights()[0].shape)\n",
        "print(embedding_layer.get_weights())\n"
      ]
    },
    {
      "cell_type": "markdown",
      "metadata": {
        "id": "X7sIWHLvoBZY"
      },
      "source": [
        "We can now evaluate this neural network's accuracy, including the embeddings and the learned dense layer.  "
      ]
    },
    {
      "cell_type": "code",
      "execution_count": 15,
      "metadata": {
        "colab": {
          "base_uri": "https://localhost:8080/"
        },
        "id": "of3oQrPxoBZY",
        "outputId": "f5fbe40a-d48c-4551-ec0d-20a3b20d9878"
      },
      "outputs": [
        {
          "output_type": "stream",
          "name": "stdout",
          "text": [
            "Accuracy: 1.0\n"
          ]
        }
      ],
      "source": [
        "loss, accuracy = model.evaluate(padded_reviews, labels, verbose=0)\n",
        "print(f'Accuracy: {accuracy}')\n"
      ]
    },
    {
      "cell_type": "markdown",
      "metadata": {
        "id": "PMmvVz92oBZY"
      },
      "source": [
        "The accuracy is a perfect 1.0, indicating there is likely overfitting. It would be good to use early stopping to not overfit for a more complex data set."
      ]
    },
    {
      "cell_type": "code",
      "execution_count": 16,
      "metadata": {
        "colab": {
          "base_uri": "https://localhost:8080/"
        },
        "id": "DkkNptWOoBZY",
        "outputId": "00852e5d-8d9e-4610-c234-b5d8e7671b0d"
      },
      "outputs": [
        {
          "output_type": "stream",
          "name": "stdout",
          "text": [
            "Log-loss: 0.48528704047203064\n"
          ]
        }
      ],
      "source": [
        "print(f'Log-loss: {loss}')\n"
      ]
    },
    {
      "cell_type": "markdown",
      "metadata": {
        "id": "X7pZXMn7oBZY"
      },
      "source": [
        "However, the loss is not perfect. Even though the predicted probabilities indicated a correct prediction in every case, the program did not achieve absolute confidence in each correct answer. The lack of confidence was likely due to the small amount of noise (previously discussed) in the data set. Some words that appeared in both positive and negative reviews contributed to this lack of absolute certainty. "
      ]
    }
  ],
  "metadata": {
    "anaconda-cloud": {},
    "colab": {
      "name": "t81_558_class_11_05_embedding.ipynb",
      "provenance": []
    },
    "kernelspec": {
      "display_name": "Python 3.9 (tensorflow)",
      "language": "python",
      "name": "tensorflow"
    },
    "language_info": {
      "codemirror_mode": {
        "name": "ipython",
        "version": 3
      },
      "file_extension": ".py",
      "mimetype": "text/x-python",
      "name": "python",
      "nbconvert_exporter": "python",
      "pygments_lexer": "ipython3",
      "version": "3.9.7"
    },
    "varInspector": {
      "cols": {
        "lenName": 16,
        "lenType": 16,
        "lenVar": 40
      },
      "kernels_config": {
        "python": {
          "delete_cmd_postfix": "",
          "delete_cmd_prefix": "del ",
          "library": "var_list.py",
          "varRefreshCmd": "print(var_dic_list())"
        },
        "r": {
          "delete_cmd_postfix": ") ",
          "delete_cmd_prefix": "rm(",
          "library": "var_list.r",
          "varRefreshCmd": "cat(var_dic_list()) "
        }
      },
      "types_to_exclude": [
        "module",
        "function",
        "builtin_function_or_method",
        "instance",
        "_Feature"
      ],
      "window_display": false
    }
  },
  "nbformat": 4,
  "nbformat_minor": 0
}